{
  "cells": [
    {
      "cell_type": "markdown",
      "metadata": {
        "id": "view-in-github",
        "colab_type": "text"
      },
      "source": [
        "<a href=\"https://colab.research.google.com/github/aderdouri/ActuarialThesis/blob/master/Notebooks/Comparaison/myAllstateDataAnalysis2012.ipynb\" target=\"_parent\"><img src=\"https://colab.research.google.com/assets/colab-badge.svg\" alt=\"Open In Colab\"/></a>"
      ]
    },
    {
      "cell_type": "markdown",
      "source": [
        "`Note` : Le dataset considéré ici est volumineux et ne peux être stocké dans Github, il faut le récupérer à directement du site web de l'organisateur de la compétition, urls :\n",
        "\n",
        "https://www.kaggle.com/competitions/ClaimPredictionChallenge/data?select=train_set.zip\n",
        "https://www.kaggle.com/competitions/ClaimPredictionChallenge/data?select=test_set.zip\n",
        "\n",
        "Au préalable, il faut créer un compte `Kaggle` et avoir un `Token` (stocké dans le fichier `kaggle.json`). On peut aussi faire notre étude d'un dataset directement sur la plateform `Kaggle` (https://www.kaggle.com/)."
      ],
      "metadata": {
        "id": "HJH8KVFNMz_4"
      }
    },
    {
      "cell_type": "code",
      "source": [
        "!pip install kaggle"
      ],
      "metadata": {
        "colab": {
          "base_uri": "https://localhost:8080/"
        },
        "id": "OH7ZLpvhjEQI",
        "outputId": "69055c35-3c49-4444-fb60-a11469cee9c1"
      },
      "execution_count": 1,
      "outputs": [
        {
          "output_type": "stream",
          "name": "stdout",
          "text": [
            "Requirement already satisfied: kaggle in /usr/local/lib/python3.10/dist-packages (1.5.16)\n",
            "Requirement already satisfied: six>=1.10 in /usr/local/lib/python3.10/dist-packages (from kaggle) (1.16.0)\n",
            "Requirement already satisfied: certifi in /usr/local/lib/python3.10/dist-packages (from kaggle) (2023.7.22)\n",
            "Requirement already satisfied: python-dateutil in /usr/local/lib/python3.10/dist-packages (from kaggle) (2.8.2)\n",
            "Requirement already satisfied: requests in /usr/local/lib/python3.10/dist-packages (from kaggle) (2.31.0)\n",
            "Requirement already satisfied: tqdm in /usr/local/lib/python3.10/dist-packages (from kaggle) (4.66.1)\n",
            "Requirement already satisfied: python-slugify in /usr/local/lib/python3.10/dist-packages (from kaggle) (8.0.1)\n",
            "Requirement already satisfied: urllib3 in /usr/local/lib/python3.10/dist-packages (from kaggle) (2.0.7)\n",
            "Requirement already satisfied: bleach in /usr/local/lib/python3.10/dist-packages (from kaggle) (6.1.0)\n",
            "Requirement already satisfied: webencodings in /usr/local/lib/python3.10/dist-packages (from bleach->kaggle) (0.5.1)\n",
            "Requirement already satisfied: text-unidecode>=1.3 in /usr/local/lib/python3.10/dist-packages (from python-slugify->kaggle) (1.3)\n",
            "Requirement already satisfied: charset-normalizer<4,>=2 in /usr/local/lib/python3.10/dist-packages (from requests->kaggle) (3.3.1)\n",
            "Requirement already satisfied: idna<4,>=2.5 in /usr/local/lib/python3.10/dist-packages (from requests->kaggle) (3.4)\n"
          ]
        }
      ]
    },
    {
      "cell_type": "code",
      "source": [
        "!mkdir ~/.kaggle"
      ],
      "metadata": {
        "id": "DoWPIk6Qj31V"
      },
      "execution_count": 2,
      "outputs": []
    },
    {
      "cell_type": "code",
      "source": [
        "!cp kaggle.json ~/.kaggle/"
      ],
      "metadata": {
        "id": "qi99kf5PjEcW"
      },
      "execution_count": 3,
      "outputs": []
    },
    {
      "cell_type": "code",
      "source": [
        "!ls -lisa"
      ],
      "metadata": {
        "colab": {
          "base_uri": "https://localhost:8080/"
        },
        "id": "A2gsQu0mjJTY",
        "outputId": "3cbebe9d-772e-45ac-c508-1854e16eda4a"
      },
      "execution_count": 4,
      "outputs": [
        {
          "output_type": "stream",
          "name": "stdout",
          "text": [
            "total 20\n",
            "6160390 4 drwxr-xr-x 1 root root 4096 Oct 31 07:02 .\n",
            "5636107 4 drwxr-xr-x 1 root root 4096 Oct 31 06:57 ..\n",
            " 655367 4 drwxr-xr-x 4 root root 4096 Oct 27 13:22 .config\n",
            "5636153 4 -rw-r--r-- 1 root root   65 Oct 31 07:02 kaggle.json\n",
            "6160391 4 drwxr-xr-x 1 root root 4096 Oct 27 13:22 sample_data\n"
          ]
        }
      ]
    },
    {
      "cell_type": "code",
      "source": [
        "!chmod 600 ~/.kaggle/kaggle.json"
      ],
      "metadata": {
        "id": "AGQMX0RBjLcJ"
      },
      "execution_count": 5,
      "outputs": []
    },
    {
      "cell_type": "code",
      "source": [
        "!kaggle competitions download -c ClaimPredictionChallenge"
      ],
      "metadata": {
        "colab": {
          "base_uri": "https://localhost:8080/"
        },
        "id": "Vdi7lH5LjNea",
        "outputId": "dc5446f0-a88e-49fc-d580-a1e1868d06e1"
      },
      "execution_count": 6,
      "outputs": [
        {
          "output_type": "stream",
          "name": "stdout",
          "text": [
            "Downloading ClaimPredictionChallenge.zip to /content\n",
            "100% 619M/622M [00:04<00:00, 155MB/s]\n",
            "100% 622M/622M [00:04<00:00, 141MB/s]\n"
          ]
        }
      ]
    },
    {
      "cell_type": "code",
      "source": [
        "!ls -ltr"
      ],
      "metadata": {
        "colab": {
          "base_uri": "https://localhost:8080/"
        },
        "id": "EsU0Z13Riq-9",
        "outputId": "016b8105-85ce-456b-944f-4e9ba2263853"
      },
      "execution_count": 7,
      "outputs": [
        {
          "output_type": "stream",
          "name": "stdout",
          "text": [
            "total 636968\n",
            "-rw-r--r-- 1 root root 652240297 Dec 11  2019 ClaimPredictionChallenge.zip\n",
            "drwxr-xr-x 1 root root      4096 Oct 27 13:22 sample_data\n",
            "-rw-r--r-- 1 root root        65 Oct 31 07:02 kaggle.json\n"
          ]
        }
      ]
    },
    {
      "cell_type": "code",
      "source": [
        "!unzip ClaimPredictionChallenge.zip"
      ],
      "metadata": {
        "colab": {
          "base_uri": "https://localhost:8080/"
        },
        "id": "o_62ke4ymYEX",
        "outputId": "e6e62dae-3b32-4621-8db2-5822dd9d917b"
      },
      "execution_count": 9,
      "outputs": [
        {
          "output_type": "stream",
          "name": "stdout",
          "text": [
            "Archive:  ClaimPredictionChallenge.zip\n",
            "  inflating: dictionary.html         \n",
            "  inflating: example_compressed_entry.csv.gz  \n",
            "  inflating: example_compressed_entry.zip  \n",
            "  inflating: example_uncompressed_entry.csv  \n",
            "  inflating: kaggle_srm6_stormod.sas7bitm  \n",
            "  inflating: test_set.7z             \n",
            "  inflating: test_set.zip            \n",
            "  inflating: train_set.7z            \n",
            "  inflating: train_set.zip           \n"
          ]
        }
      ]
    },
    {
      "cell_type": "code",
      "source": [
        "!ls -ltr"
      ],
      "metadata": {
        "colab": {
          "base_uri": "https://localhost:8080/"
        },
        "id": "ET8JQWQaDNNN",
        "outputId": "b45014b4-c6f8-41d3-e1b5-ac6790b37fbf"
      },
      "execution_count": 10,
      "outputs": [
        {
          "output_type": "stream",
          "name": "stdout",
          "text": [
            "total 1329376\n",
            "-rw-r--r-- 1 root root   9534348 Dec 11  2019 example_compressed_entry.csv.gz\n",
            "-rw-r--r-- 1 root root     24768 Dec 11  2019 dictionary.html\n",
            "-rw-r--r-- 1 root root  51778401 Dec 11  2019 example_uncompressed_entry.csv\n",
            "-rw-r--r-- 1 root root   5120252 Dec 11  2019 example_compressed_entry.zip\n",
            "-rw-r--r-- 1 root root  34841099 Dec 11  2019 test_set.7z\n",
            "-rw-r--r-- 1 root root    325632 Dec 11  2019 kaggle_srm6_stormod.sas7bitm\n",
            "-rw-r--r-- 1 root root 116285954 Dec 11  2019 test_set.zip\n",
            "-rw-r--r-- 1 root root 110548523 Dec 11  2019 train_set.7z\n",
            "-rw-r--r-- 1 root root 380542114 Dec 11  2019 train_set.zip\n",
            "-rw-r--r-- 1 root root 652240297 Dec 11  2019 ClaimPredictionChallenge.zip\n",
            "drwxr-xr-x 1 root root      4096 Oct 27 13:22 sample_data\n",
            "-rw-r--r-- 1 root root        65 Oct 31 07:02 kaggle.json\n"
          ]
        }
      ]
    },
    {
      "cell_type": "code",
      "execution_count": 11,
      "metadata": {
        "_cell_guid": "79c7e3d0-c299-4dcb-8224-4455121ee9b0",
        "_uuid": "d629ff2d2480ee46fbb7e2d37f6b5fab8052498a",
        "id": "216Q9RS29p9K"
      },
      "outputs": [],
      "source": [
        "import pandas as pd\n",
        "import numpy as np\n",
        "import matplotlib.pyplot as plt\n",
        "import seaborn as sns\n",
        "import time\n",
        "%matplotlib inline\n",
        "sns.set_theme()"
      ]
    },
    {
      "cell_type": "code",
      "execution_count": 12,
      "metadata": {
        "id": "WHOtRHf8ITq9",
        "colab": {
          "base_uri": "https://localhost:8080/",
          "height": 236
        },
        "outputId": "84e6e7da-65f1-4979-cb2b-acc0a03c67a6"
      },
      "outputs": [
        {
          "output_type": "execute_result",
          "data": {
            "text/plain": [
              "   Row_ID  Household_ID  Vehicle  Calendar_Year  Model_Year Blind_Make  \\\n",
              "0       1             1        3           2005        2005          K   \n",
              "1       2             2        2           2005        2003          Q   \n",
              "2       3             3        1           2005        1998         AR   \n",
              "3       4             3        1           2006        1998         AR   \n",
              "4       5             3        2           2005        2001          D   \n",
              "\n",
              "  Blind_Model Blind_Submodel Cat1 Cat2  ...      Var5      Var6      Var7  \\\n",
              "0        K.78         K.78.2    D    C  ...  1.008912  0.261040  0.907793   \n",
              "1        Q.22         Q.22.3    B    C  ...  1.240851  0.432987 -0.726459   \n",
              "2       AR.41        AR.41.1    B    ?  ... -0.971487 -1.405797 -0.837048   \n",
              "3       AR.41        AR.41.1    B    ?  ... -0.971487 -1.405797 -0.837048   \n",
              "4        D.20         D.20.0    J    C  ...  0.812656  2.112691  1.534462   \n",
              "\n",
              "       Var8 NVCat   NVVar1    NVVar2    NVVar3    NVVar4 Claim_Amount  \n",
              "0 -0.077998     M -0.23153 -0.266117 -0.272337 -0.251419          0.0  \n",
              "1  0.204785     O -0.23153 -0.266117 -0.272337 -0.251419          0.0  \n",
              "2 -1.176858     F -0.23153 -0.266117 -0.272337 -0.251419          0.0  \n",
              "3 -1.176858     F -0.23153 -0.266117 -0.272337 -0.251419          0.0  \n",
              "4  2.347260     F -0.23153 -0.266117 -0.272337 -0.251419          0.0  \n",
              "\n",
              "[5 rows x 35 columns]"
            ],
            "text/html": [
              "\n",
              "  <div id=\"df-c5215cfb-75e3-49bf-8d30-7acc466bf970\" class=\"colab-df-container\">\n",
              "    <div>\n",
              "<style scoped>\n",
              "    .dataframe tbody tr th:only-of-type {\n",
              "        vertical-align: middle;\n",
              "    }\n",
              "\n",
              "    .dataframe tbody tr th {\n",
              "        vertical-align: top;\n",
              "    }\n",
              "\n",
              "    .dataframe thead th {\n",
              "        text-align: right;\n",
              "    }\n",
              "</style>\n",
              "<table border=\"1\" class=\"dataframe\">\n",
              "  <thead>\n",
              "    <tr style=\"text-align: right;\">\n",
              "      <th></th>\n",
              "      <th>Row_ID</th>\n",
              "      <th>Household_ID</th>\n",
              "      <th>Vehicle</th>\n",
              "      <th>Calendar_Year</th>\n",
              "      <th>Model_Year</th>\n",
              "      <th>Blind_Make</th>\n",
              "      <th>Blind_Model</th>\n",
              "      <th>Blind_Submodel</th>\n",
              "      <th>Cat1</th>\n",
              "      <th>Cat2</th>\n",
              "      <th>...</th>\n",
              "      <th>Var5</th>\n",
              "      <th>Var6</th>\n",
              "      <th>Var7</th>\n",
              "      <th>Var8</th>\n",
              "      <th>NVCat</th>\n",
              "      <th>NVVar1</th>\n",
              "      <th>NVVar2</th>\n",
              "      <th>NVVar3</th>\n",
              "      <th>NVVar4</th>\n",
              "      <th>Claim_Amount</th>\n",
              "    </tr>\n",
              "  </thead>\n",
              "  <tbody>\n",
              "    <tr>\n",
              "      <th>0</th>\n",
              "      <td>1</td>\n",
              "      <td>1</td>\n",
              "      <td>3</td>\n",
              "      <td>2005</td>\n",
              "      <td>2005</td>\n",
              "      <td>K</td>\n",
              "      <td>K.78</td>\n",
              "      <td>K.78.2</td>\n",
              "      <td>D</td>\n",
              "      <td>C</td>\n",
              "      <td>...</td>\n",
              "      <td>1.008912</td>\n",
              "      <td>0.261040</td>\n",
              "      <td>0.907793</td>\n",
              "      <td>-0.077998</td>\n",
              "      <td>M</td>\n",
              "      <td>-0.23153</td>\n",
              "      <td>-0.266117</td>\n",
              "      <td>-0.272337</td>\n",
              "      <td>-0.251419</td>\n",
              "      <td>0.0</td>\n",
              "    </tr>\n",
              "    <tr>\n",
              "      <th>1</th>\n",
              "      <td>2</td>\n",
              "      <td>2</td>\n",
              "      <td>2</td>\n",
              "      <td>2005</td>\n",
              "      <td>2003</td>\n",
              "      <td>Q</td>\n",
              "      <td>Q.22</td>\n",
              "      <td>Q.22.3</td>\n",
              "      <td>B</td>\n",
              "      <td>C</td>\n",
              "      <td>...</td>\n",
              "      <td>1.240851</td>\n",
              "      <td>0.432987</td>\n",
              "      <td>-0.726459</td>\n",
              "      <td>0.204785</td>\n",
              "      <td>O</td>\n",
              "      <td>-0.23153</td>\n",
              "      <td>-0.266117</td>\n",
              "      <td>-0.272337</td>\n",
              "      <td>-0.251419</td>\n",
              "      <td>0.0</td>\n",
              "    </tr>\n",
              "    <tr>\n",
              "      <th>2</th>\n",
              "      <td>3</td>\n",
              "      <td>3</td>\n",
              "      <td>1</td>\n",
              "      <td>2005</td>\n",
              "      <td>1998</td>\n",
              "      <td>AR</td>\n",
              "      <td>AR.41</td>\n",
              "      <td>AR.41.1</td>\n",
              "      <td>B</td>\n",
              "      <td>?</td>\n",
              "      <td>...</td>\n",
              "      <td>-0.971487</td>\n",
              "      <td>-1.405797</td>\n",
              "      <td>-0.837048</td>\n",
              "      <td>-1.176858</td>\n",
              "      <td>F</td>\n",
              "      <td>-0.23153</td>\n",
              "      <td>-0.266117</td>\n",
              "      <td>-0.272337</td>\n",
              "      <td>-0.251419</td>\n",
              "      <td>0.0</td>\n",
              "    </tr>\n",
              "    <tr>\n",
              "      <th>3</th>\n",
              "      <td>4</td>\n",
              "      <td>3</td>\n",
              "      <td>1</td>\n",
              "      <td>2006</td>\n",
              "      <td>1998</td>\n",
              "      <td>AR</td>\n",
              "      <td>AR.41</td>\n",
              "      <td>AR.41.1</td>\n",
              "      <td>B</td>\n",
              "      <td>?</td>\n",
              "      <td>...</td>\n",
              "      <td>-0.971487</td>\n",
              "      <td>-1.405797</td>\n",
              "      <td>-0.837048</td>\n",
              "      <td>-1.176858</td>\n",
              "      <td>F</td>\n",
              "      <td>-0.23153</td>\n",
              "      <td>-0.266117</td>\n",
              "      <td>-0.272337</td>\n",
              "      <td>-0.251419</td>\n",
              "      <td>0.0</td>\n",
              "    </tr>\n",
              "    <tr>\n",
              "      <th>4</th>\n",
              "      <td>5</td>\n",
              "      <td>3</td>\n",
              "      <td>2</td>\n",
              "      <td>2005</td>\n",
              "      <td>2001</td>\n",
              "      <td>D</td>\n",
              "      <td>D.20</td>\n",
              "      <td>D.20.0</td>\n",
              "      <td>J</td>\n",
              "      <td>C</td>\n",
              "      <td>...</td>\n",
              "      <td>0.812656</td>\n",
              "      <td>2.112691</td>\n",
              "      <td>1.534462</td>\n",
              "      <td>2.347260</td>\n",
              "      <td>F</td>\n",
              "      <td>-0.23153</td>\n",
              "      <td>-0.266117</td>\n",
              "      <td>-0.272337</td>\n",
              "      <td>-0.251419</td>\n",
              "      <td>0.0</td>\n",
              "    </tr>\n",
              "  </tbody>\n",
              "</table>\n",
              "<p>5 rows × 35 columns</p>\n",
              "</div>\n",
              "    <div class=\"colab-df-buttons\">\n",
              "\n",
              "  <div class=\"colab-df-container\">\n",
              "    <button class=\"colab-df-convert\" onclick=\"convertToInteractive('df-c5215cfb-75e3-49bf-8d30-7acc466bf970')\"\n",
              "            title=\"Convert this dataframe to an interactive table.\"\n",
              "            style=\"display:none;\">\n",
              "\n",
              "  <svg xmlns=\"http://www.w3.org/2000/svg\" height=\"24px\" viewBox=\"0 -960 960 960\">\n",
              "    <path d=\"M120-120v-720h720v720H120Zm60-500h600v-160H180v160Zm220 220h160v-160H400v160Zm0 220h160v-160H400v160ZM180-400h160v-160H180v160Zm440 0h160v-160H620v160ZM180-180h160v-160H180v160Zm440 0h160v-160H620v160Z\"/>\n",
              "  </svg>\n",
              "    </button>\n",
              "\n",
              "  <style>\n",
              "    .colab-df-container {\n",
              "      display:flex;\n",
              "      gap: 12px;\n",
              "    }\n",
              "\n",
              "    .colab-df-convert {\n",
              "      background-color: #E8F0FE;\n",
              "      border: none;\n",
              "      border-radius: 50%;\n",
              "      cursor: pointer;\n",
              "      display: none;\n",
              "      fill: #1967D2;\n",
              "      height: 32px;\n",
              "      padding: 0 0 0 0;\n",
              "      width: 32px;\n",
              "    }\n",
              "\n",
              "    .colab-df-convert:hover {\n",
              "      background-color: #E2EBFA;\n",
              "      box-shadow: 0px 1px 2px rgba(60, 64, 67, 0.3), 0px 1px 3px 1px rgba(60, 64, 67, 0.15);\n",
              "      fill: #174EA6;\n",
              "    }\n",
              "\n",
              "    .colab-df-buttons div {\n",
              "      margin-bottom: 4px;\n",
              "    }\n",
              "\n",
              "    [theme=dark] .colab-df-convert {\n",
              "      background-color: #3B4455;\n",
              "      fill: #D2E3FC;\n",
              "    }\n",
              "\n",
              "    [theme=dark] .colab-df-convert:hover {\n",
              "      background-color: #434B5C;\n",
              "      box-shadow: 0px 1px 3px 1px rgba(0, 0, 0, 0.15);\n",
              "      filter: drop-shadow(0px 1px 2px rgba(0, 0, 0, 0.3));\n",
              "      fill: #FFFFFF;\n",
              "    }\n",
              "  </style>\n",
              "\n",
              "    <script>\n",
              "      const buttonEl =\n",
              "        document.querySelector('#df-c5215cfb-75e3-49bf-8d30-7acc466bf970 button.colab-df-convert');\n",
              "      buttonEl.style.display =\n",
              "        google.colab.kernel.accessAllowed ? 'block' : 'none';\n",
              "\n",
              "      async function convertToInteractive(key) {\n",
              "        const element = document.querySelector('#df-c5215cfb-75e3-49bf-8d30-7acc466bf970');\n",
              "        const dataTable =\n",
              "          await google.colab.kernel.invokeFunction('convertToInteractive',\n",
              "                                                    [key], {});\n",
              "        if (!dataTable) return;\n",
              "\n",
              "        const docLinkHtml = 'Like what you see? Visit the ' +\n",
              "          '<a target=\"_blank\" href=https://colab.research.google.com/notebooks/data_table.ipynb>data table notebook</a>'\n",
              "          + ' to learn more about interactive tables.';\n",
              "        element.innerHTML = '';\n",
              "        dataTable['output_type'] = 'display_data';\n",
              "        await google.colab.output.renderOutput(dataTable, element);\n",
              "        const docLink = document.createElement('div');\n",
              "        docLink.innerHTML = docLinkHtml;\n",
              "        element.appendChild(docLink);\n",
              "      }\n",
              "    </script>\n",
              "  </div>\n",
              "\n",
              "\n",
              "<div id=\"df-4be304e4-1673-49d2-b74b-62e15a798204\">\n",
              "  <button class=\"colab-df-quickchart\" onclick=\"quickchart('df-4be304e4-1673-49d2-b74b-62e15a798204')\"\n",
              "            title=\"Suggest charts.\"\n",
              "            style=\"display:none;\">\n",
              "\n",
              "<svg xmlns=\"http://www.w3.org/2000/svg\" height=\"24px\"viewBox=\"0 0 24 24\"\n",
              "     width=\"24px\">\n",
              "    <g>\n",
              "        <path d=\"M19 3H5c-1.1 0-2 .9-2 2v14c0 1.1.9 2 2 2h14c1.1 0 2-.9 2-2V5c0-1.1-.9-2-2-2zM9 17H7v-7h2v7zm4 0h-2V7h2v10zm4 0h-2v-4h2v4z\"/>\n",
              "    </g>\n",
              "</svg>\n",
              "  </button>\n",
              "\n",
              "<style>\n",
              "  .colab-df-quickchart {\n",
              "      --bg-color: #E8F0FE;\n",
              "      --fill-color: #1967D2;\n",
              "      --hover-bg-color: #E2EBFA;\n",
              "      --hover-fill-color: #174EA6;\n",
              "      --disabled-fill-color: #AAA;\n",
              "      --disabled-bg-color: #DDD;\n",
              "  }\n",
              "\n",
              "  [theme=dark] .colab-df-quickchart {\n",
              "      --bg-color: #3B4455;\n",
              "      --fill-color: #D2E3FC;\n",
              "      --hover-bg-color: #434B5C;\n",
              "      --hover-fill-color: #FFFFFF;\n",
              "      --disabled-bg-color: #3B4455;\n",
              "      --disabled-fill-color: #666;\n",
              "  }\n",
              "\n",
              "  .colab-df-quickchart {\n",
              "    background-color: var(--bg-color);\n",
              "    border: none;\n",
              "    border-radius: 50%;\n",
              "    cursor: pointer;\n",
              "    display: none;\n",
              "    fill: var(--fill-color);\n",
              "    height: 32px;\n",
              "    padding: 0;\n",
              "    width: 32px;\n",
              "  }\n",
              "\n",
              "  .colab-df-quickchart:hover {\n",
              "    background-color: var(--hover-bg-color);\n",
              "    box-shadow: 0 1px 2px rgba(60, 64, 67, 0.3), 0 1px 3px 1px rgba(60, 64, 67, 0.15);\n",
              "    fill: var(--button-hover-fill-color);\n",
              "  }\n",
              "\n",
              "  .colab-df-quickchart-complete:disabled,\n",
              "  .colab-df-quickchart-complete:disabled:hover {\n",
              "    background-color: var(--disabled-bg-color);\n",
              "    fill: var(--disabled-fill-color);\n",
              "    box-shadow: none;\n",
              "  }\n",
              "\n",
              "  .colab-df-spinner {\n",
              "    border: 2px solid var(--fill-color);\n",
              "    border-color: transparent;\n",
              "    border-bottom-color: var(--fill-color);\n",
              "    animation:\n",
              "      spin 1s steps(1) infinite;\n",
              "  }\n",
              "\n",
              "  @keyframes spin {\n",
              "    0% {\n",
              "      border-color: transparent;\n",
              "      border-bottom-color: var(--fill-color);\n",
              "      border-left-color: var(--fill-color);\n",
              "    }\n",
              "    20% {\n",
              "      border-color: transparent;\n",
              "      border-left-color: var(--fill-color);\n",
              "      border-top-color: var(--fill-color);\n",
              "    }\n",
              "    30% {\n",
              "      border-color: transparent;\n",
              "      border-left-color: var(--fill-color);\n",
              "      border-top-color: var(--fill-color);\n",
              "      border-right-color: var(--fill-color);\n",
              "    }\n",
              "    40% {\n",
              "      border-color: transparent;\n",
              "      border-right-color: var(--fill-color);\n",
              "      border-top-color: var(--fill-color);\n",
              "    }\n",
              "    60% {\n",
              "      border-color: transparent;\n",
              "      border-right-color: var(--fill-color);\n",
              "    }\n",
              "    80% {\n",
              "      border-color: transparent;\n",
              "      border-right-color: var(--fill-color);\n",
              "      border-bottom-color: var(--fill-color);\n",
              "    }\n",
              "    90% {\n",
              "      border-color: transparent;\n",
              "      border-bottom-color: var(--fill-color);\n",
              "    }\n",
              "  }\n",
              "</style>\n",
              "\n",
              "  <script>\n",
              "    async function quickchart(key) {\n",
              "      const quickchartButtonEl =\n",
              "        document.querySelector('#' + key + ' button');\n",
              "      quickchartButtonEl.disabled = true;  // To prevent multiple clicks.\n",
              "      quickchartButtonEl.classList.add('colab-df-spinner');\n",
              "      try {\n",
              "        const charts = await google.colab.kernel.invokeFunction(\n",
              "            'suggestCharts', [key], {});\n",
              "      } catch (error) {\n",
              "        console.error('Error during call to suggestCharts:', error);\n",
              "      }\n",
              "      quickchartButtonEl.classList.remove('colab-df-spinner');\n",
              "      quickchartButtonEl.classList.add('colab-df-quickchart-complete');\n",
              "    }\n",
              "    (() => {\n",
              "      let quickchartButtonEl =\n",
              "        document.querySelector('#df-4be304e4-1673-49d2-b74b-62e15a798204 button');\n",
              "      quickchartButtonEl.style.display =\n",
              "        google.colab.kernel.accessAllowed ? 'block' : 'none';\n",
              "    })();\n",
              "  </script>\n",
              "</div>\n",
              "    </div>\n",
              "  </div>\n"
            ]
          },
          "metadata": {},
          "execution_count": 12
        }
      ],
      "source": [
        "import pandas as pd\n",
        "train_data = pd.read_csv('/content/train_set.zip', low_memory=False)\n",
        "train_data.head()"
      ]
    },
    {
      "cell_type": "code",
      "execution_count": 13,
      "metadata": {
        "colab": {
          "base_uri": "https://localhost:8080/"
        },
        "id": "DSjhdgrEJZjt",
        "outputId": "469a7ff8-b883-4cde-96c7-12db61f9c43d"
      },
      "outputs": [
        {
          "output_type": "execute_result",
          "data": {
            "text/plain": [
              "Index(['Row_ID', 'Household_ID', 'Vehicle', 'Calendar_Year', 'Model_Year',\n",
              "       'Blind_Make', 'Blind_Model', 'Blind_Submodel', 'Cat1', 'Cat2', 'Cat3',\n",
              "       'Cat4', 'Cat5', 'Cat6', 'Cat7', 'Cat8', 'Cat9', 'Cat10', 'Cat11',\n",
              "       'Cat12', 'OrdCat', 'Var1', 'Var2', 'Var3', 'Var4', 'Var5', 'Var6',\n",
              "       'Var7', 'Var8', 'NVCat', 'NVVar1', 'NVVar2', 'NVVar3', 'NVVar4',\n",
              "       'Claim_Amount'],\n",
              "      dtype='object')"
            ]
          },
          "metadata": {},
          "execution_count": 13
        }
      ],
      "source": [
        "train_data.columns"
      ]
    },
    {
      "cell_type": "code",
      "source": [
        "len(list(train_data.columns))"
      ],
      "metadata": {
        "colab": {
          "base_uri": "https://localhost:8080/"
        },
        "id": "3abtGrltbSEH",
        "outputId": "1f42685b-3722-4b00-95c6-c25c407cb133"
      },
      "execution_count": 14,
      "outputs": [
        {
          "output_type": "execute_result",
          "data": {
            "text/plain": [
              "35"
            ]
          },
          "metadata": {},
          "execution_count": 14
        }
      ]
    },
    {
      "cell_type": "code",
      "source": [
        "len(train_data)"
      ],
      "metadata": {
        "colab": {
          "base_uri": "https://localhost:8080/"
        },
        "id": "h0HAgVVRaxlC",
        "outputId": "c3c2bdf9-e1df-4546-fe69-30281ea25d68"
      },
      "execution_count": 15,
      "outputs": [
        {
          "output_type": "execute_result",
          "data": {
            "text/plain": [
              "13184290"
            ]
          },
          "metadata": {},
          "execution_count": 15
        }
      ]
    },
    {
      "cell_type": "code",
      "execution_count": 16,
      "metadata": {
        "colab": {
          "base_uri": "https://localhost:8080/"
        },
        "id": "RpKkYFfZoWVc",
        "outputId": "96931b0d-48f3-49c8-fa1a-2bd4d8219b92"
      },
      "outputs": [
        {
          "output_type": "stream",
          "name": "stdout",
          "text": [
            "<class 'pandas.core.frame.DataFrame'>\n",
            "RangeIndex: 13184290 entries, 0 to 13184289\n",
            "Data columns (total 35 columns):\n",
            " #   Column          Dtype  \n",
            "---  ------          -----  \n",
            " 0   Row_ID          int64  \n",
            " 1   Household_ID    int64  \n",
            " 2   Vehicle         int64  \n",
            " 3   Calendar_Year   int64  \n",
            " 4   Model_Year      int64  \n",
            " 5   Blind_Make      object \n",
            " 6   Blind_Model     object \n",
            " 7   Blind_Submodel  object \n",
            " 8   Cat1            object \n",
            " 9   Cat2            object \n",
            " 10  Cat3            object \n",
            " 11  Cat4            object \n",
            " 12  Cat5            object \n",
            " 13  Cat6            object \n",
            " 14  Cat7            object \n",
            " 15  Cat8            object \n",
            " 16  Cat9            object \n",
            " 17  Cat10           object \n",
            " 18  Cat11           object \n",
            " 19  Cat12           object \n",
            " 20  OrdCat          object \n",
            " 21  Var1            float64\n",
            " 22  Var2            float64\n",
            " 23  Var3            float64\n",
            " 24  Var4            float64\n",
            " 25  Var5            float64\n",
            " 26  Var6            float64\n",
            " 27  Var7            float64\n",
            " 28  Var8            float64\n",
            " 29  NVCat           object \n",
            " 30  NVVar1          float64\n",
            " 31  NVVar2          float64\n",
            " 32  NVVar3          float64\n",
            " 33  NVVar4          float64\n",
            " 34  Claim_Amount    float64\n",
            "dtypes: float64(13), int64(5), object(17)\n",
            "memory usage: 3.4+ GB\n"
          ]
        }
      ],
      "source": [
        "train_data.info()"
      ]
    },
    {
      "cell_type": "code",
      "execution_count": 17,
      "metadata": {
        "colab": {
          "base_uri": "https://localhost:8080/",
          "height": 390
        },
        "id": "IvJv9MGpoWVc",
        "outputId": "032f56c5-f713-4b9f-af45-e59219fa1d2d"
      },
      "outputs": [
        {
          "output_type": "execute_result",
          "data": {
            "text/plain": [
              "             Row_ID  Household_ID       Vehicle  Calendar_Year    Model_Year  \\\n",
              "count  1.318429e+07  1.318429e+07  1.318429e+07   1.318429e+07  1.318429e+07   \n",
              "mean   6.592146e+06  4.128242e+06  1.894002e+00   2.006052e+03  1.999312e+03   \n",
              "std    3.805977e+06  2.248415e+06  1.173861e+00   8.123720e-01  5.211866e+00   \n",
              "min    1.000000e+00  1.000000e+00  1.000000e+00   2.005000e+03  1.981000e+03   \n",
              "25%    3.296073e+06  2.184932e+06  1.000000e+00   2.005000e+03  1.996000e+03   \n",
              "50%    6.592146e+06  4.257083e+06  2.000000e+00   2.006000e+03  2.000000e+03   \n",
              "75%    9.888218e+06  6.281433e+06  2.000000e+00   2.007000e+03  2.003000e+03   \n",
              "max    1.318429e+07  7.542113e+06  2.900000e+01   2.007000e+03  2.009000e+03   \n",
              "\n",
              "               Var1          Var2          Var3          Var4          Var5  \\\n",
              "count  1.318429e+07  1.318429e+07  1.318429e+07  1.318429e+07  1.318429e+07   \n",
              "mean  -1.011925e-02 -6.508702e-02 -2.543391e-02 -5.456792e-02  3.838594e-03   \n",
              "std    9.800609e-01  9.684165e-01  1.018902e+00  9.680170e-01  9.910490e-01   \n",
              "min   -2.578222e+00 -2.493393e+00 -2.790335e+00 -2.508216e+00 -3.350344e+00   \n",
              "25%   -6.658971e-01 -8.161519e-01 -8.696874e-01 -7.830189e-01 -6.860239e-01   \n",
              "50%   -3.123581e-01 -1.245062e-01 -2.217581e-01 -1.064709e-01 -1.150981e-01   \n",
              "75%    4.429298e-01  4.806838e-01  7.269956e-01  4.855086e-01  5.331405e-01   \n",
              "max    5.143392e+00  7.829420e+00  5.563325e+00  7.589263e+00  4.018167e+00   \n",
              "\n",
              "               Var6          Var7          Var8        NVVar1        NVVar2  \\\n",
              "count  1.318429e+07  1.318429e+07  1.318429e+07  1.318429e+07  1.318429e+07   \n",
              "mean  -4.012271e-02 -2.421288e-02 -5.856059e-02  1.468410e-02  1.751169e-02   \n",
              "std    9.792078e-01  1.006433e+00  1.003954e+00  1.031040e+00  1.038212e+00   \n",
              "min   -2.376657e+00 -2.778491e+00 -2.163042e+00 -2.315299e-01 -2.661168e-01   \n",
              "25%   -6.887650e-01 -8.984857e-01 -6.517680e-01 -2.315299e-01 -2.661168e-01   \n",
              "50%   -2.372568e-01 -4.684193e-01 -2.568567e-01 -2.315299e-01 -2.661168e-01   \n",
              "75%    4.973212e-01  8.217801e-01  3.409799e-01 -2.315299e-01 -2.661168e-01   \n",
              "max    4.584289e+00  4.127148e+00  4.735074e+01  6.627110e+00  8.883081e+00   \n",
              "\n",
              "             NVVar3        NVVar4  Claim_Amount  \n",
              "count  1.318429e+07  1.318429e+07  1.318429e+07  \n",
              "mean   1.354226e-02  1.851376e-02  1.360658e+00  \n",
              "std    1.027748e+00  1.034274e+00  3.900103e+01  \n",
              "min   -2.723372e-01 -2.514189e-01  0.000000e+00  \n",
              "25%   -2.723372e-01 -2.514189e-01  0.000000e+00  \n",
              "50%   -2.723372e-01 -2.514189e-01  0.000000e+00  \n",
              "75%   -2.723372e-01 -2.514189e-01  0.000000e+00  \n",
              "max    8.691144e+00  6.388802e+00  1.144075e+04  "
            ],
            "text/html": [
              "\n",
              "  <div id=\"df-8bf778a9-16ee-45e7-b1e8-9307582c301f\" class=\"colab-df-container\">\n",
              "    <div>\n",
              "<style scoped>\n",
              "    .dataframe tbody tr th:only-of-type {\n",
              "        vertical-align: middle;\n",
              "    }\n",
              "\n",
              "    .dataframe tbody tr th {\n",
              "        vertical-align: top;\n",
              "    }\n",
              "\n",
              "    .dataframe thead th {\n",
              "        text-align: right;\n",
              "    }\n",
              "</style>\n",
              "<table border=\"1\" class=\"dataframe\">\n",
              "  <thead>\n",
              "    <tr style=\"text-align: right;\">\n",
              "      <th></th>\n",
              "      <th>Row_ID</th>\n",
              "      <th>Household_ID</th>\n",
              "      <th>Vehicle</th>\n",
              "      <th>Calendar_Year</th>\n",
              "      <th>Model_Year</th>\n",
              "      <th>Var1</th>\n",
              "      <th>Var2</th>\n",
              "      <th>Var3</th>\n",
              "      <th>Var4</th>\n",
              "      <th>Var5</th>\n",
              "      <th>Var6</th>\n",
              "      <th>Var7</th>\n",
              "      <th>Var8</th>\n",
              "      <th>NVVar1</th>\n",
              "      <th>NVVar2</th>\n",
              "      <th>NVVar3</th>\n",
              "      <th>NVVar4</th>\n",
              "      <th>Claim_Amount</th>\n",
              "    </tr>\n",
              "  </thead>\n",
              "  <tbody>\n",
              "    <tr>\n",
              "      <th>count</th>\n",
              "      <td>1.318429e+07</td>\n",
              "      <td>1.318429e+07</td>\n",
              "      <td>1.318429e+07</td>\n",
              "      <td>1.318429e+07</td>\n",
              "      <td>1.318429e+07</td>\n",
              "      <td>1.318429e+07</td>\n",
              "      <td>1.318429e+07</td>\n",
              "      <td>1.318429e+07</td>\n",
              "      <td>1.318429e+07</td>\n",
              "      <td>1.318429e+07</td>\n",
              "      <td>1.318429e+07</td>\n",
              "      <td>1.318429e+07</td>\n",
              "      <td>1.318429e+07</td>\n",
              "      <td>1.318429e+07</td>\n",
              "      <td>1.318429e+07</td>\n",
              "      <td>1.318429e+07</td>\n",
              "      <td>1.318429e+07</td>\n",
              "      <td>1.318429e+07</td>\n",
              "    </tr>\n",
              "    <tr>\n",
              "      <th>mean</th>\n",
              "      <td>6.592146e+06</td>\n",
              "      <td>4.128242e+06</td>\n",
              "      <td>1.894002e+00</td>\n",
              "      <td>2.006052e+03</td>\n",
              "      <td>1.999312e+03</td>\n",
              "      <td>-1.011925e-02</td>\n",
              "      <td>-6.508702e-02</td>\n",
              "      <td>-2.543391e-02</td>\n",
              "      <td>-5.456792e-02</td>\n",
              "      <td>3.838594e-03</td>\n",
              "      <td>-4.012271e-02</td>\n",
              "      <td>-2.421288e-02</td>\n",
              "      <td>-5.856059e-02</td>\n",
              "      <td>1.468410e-02</td>\n",
              "      <td>1.751169e-02</td>\n",
              "      <td>1.354226e-02</td>\n",
              "      <td>1.851376e-02</td>\n",
              "      <td>1.360658e+00</td>\n",
              "    </tr>\n",
              "    <tr>\n",
              "      <th>std</th>\n",
              "      <td>3.805977e+06</td>\n",
              "      <td>2.248415e+06</td>\n",
              "      <td>1.173861e+00</td>\n",
              "      <td>8.123720e-01</td>\n",
              "      <td>5.211866e+00</td>\n",
              "      <td>9.800609e-01</td>\n",
              "      <td>9.684165e-01</td>\n",
              "      <td>1.018902e+00</td>\n",
              "      <td>9.680170e-01</td>\n",
              "      <td>9.910490e-01</td>\n",
              "      <td>9.792078e-01</td>\n",
              "      <td>1.006433e+00</td>\n",
              "      <td>1.003954e+00</td>\n",
              "      <td>1.031040e+00</td>\n",
              "      <td>1.038212e+00</td>\n",
              "      <td>1.027748e+00</td>\n",
              "      <td>1.034274e+00</td>\n",
              "      <td>3.900103e+01</td>\n",
              "    </tr>\n",
              "    <tr>\n",
              "      <th>min</th>\n",
              "      <td>1.000000e+00</td>\n",
              "      <td>1.000000e+00</td>\n",
              "      <td>1.000000e+00</td>\n",
              "      <td>2.005000e+03</td>\n",
              "      <td>1.981000e+03</td>\n",
              "      <td>-2.578222e+00</td>\n",
              "      <td>-2.493393e+00</td>\n",
              "      <td>-2.790335e+00</td>\n",
              "      <td>-2.508216e+00</td>\n",
              "      <td>-3.350344e+00</td>\n",
              "      <td>-2.376657e+00</td>\n",
              "      <td>-2.778491e+00</td>\n",
              "      <td>-2.163042e+00</td>\n",
              "      <td>-2.315299e-01</td>\n",
              "      <td>-2.661168e-01</td>\n",
              "      <td>-2.723372e-01</td>\n",
              "      <td>-2.514189e-01</td>\n",
              "      <td>0.000000e+00</td>\n",
              "    </tr>\n",
              "    <tr>\n",
              "      <th>25%</th>\n",
              "      <td>3.296073e+06</td>\n",
              "      <td>2.184932e+06</td>\n",
              "      <td>1.000000e+00</td>\n",
              "      <td>2.005000e+03</td>\n",
              "      <td>1.996000e+03</td>\n",
              "      <td>-6.658971e-01</td>\n",
              "      <td>-8.161519e-01</td>\n",
              "      <td>-8.696874e-01</td>\n",
              "      <td>-7.830189e-01</td>\n",
              "      <td>-6.860239e-01</td>\n",
              "      <td>-6.887650e-01</td>\n",
              "      <td>-8.984857e-01</td>\n",
              "      <td>-6.517680e-01</td>\n",
              "      <td>-2.315299e-01</td>\n",
              "      <td>-2.661168e-01</td>\n",
              "      <td>-2.723372e-01</td>\n",
              "      <td>-2.514189e-01</td>\n",
              "      <td>0.000000e+00</td>\n",
              "    </tr>\n",
              "    <tr>\n",
              "      <th>50%</th>\n",
              "      <td>6.592146e+06</td>\n",
              "      <td>4.257083e+06</td>\n",
              "      <td>2.000000e+00</td>\n",
              "      <td>2.006000e+03</td>\n",
              "      <td>2.000000e+03</td>\n",
              "      <td>-3.123581e-01</td>\n",
              "      <td>-1.245062e-01</td>\n",
              "      <td>-2.217581e-01</td>\n",
              "      <td>-1.064709e-01</td>\n",
              "      <td>-1.150981e-01</td>\n",
              "      <td>-2.372568e-01</td>\n",
              "      <td>-4.684193e-01</td>\n",
              "      <td>-2.568567e-01</td>\n",
              "      <td>-2.315299e-01</td>\n",
              "      <td>-2.661168e-01</td>\n",
              "      <td>-2.723372e-01</td>\n",
              "      <td>-2.514189e-01</td>\n",
              "      <td>0.000000e+00</td>\n",
              "    </tr>\n",
              "    <tr>\n",
              "      <th>75%</th>\n",
              "      <td>9.888218e+06</td>\n",
              "      <td>6.281433e+06</td>\n",
              "      <td>2.000000e+00</td>\n",
              "      <td>2.007000e+03</td>\n",
              "      <td>2.003000e+03</td>\n",
              "      <td>4.429298e-01</td>\n",
              "      <td>4.806838e-01</td>\n",
              "      <td>7.269956e-01</td>\n",
              "      <td>4.855086e-01</td>\n",
              "      <td>5.331405e-01</td>\n",
              "      <td>4.973212e-01</td>\n",
              "      <td>8.217801e-01</td>\n",
              "      <td>3.409799e-01</td>\n",
              "      <td>-2.315299e-01</td>\n",
              "      <td>-2.661168e-01</td>\n",
              "      <td>-2.723372e-01</td>\n",
              "      <td>-2.514189e-01</td>\n",
              "      <td>0.000000e+00</td>\n",
              "    </tr>\n",
              "    <tr>\n",
              "      <th>max</th>\n",
              "      <td>1.318429e+07</td>\n",
              "      <td>7.542113e+06</td>\n",
              "      <td>2.900000e+01</td>\n",
              "      <td>2.007000e+03</td>\n",
              "      <td>2.009000e+03</td>\n",
              "      <td>5.143392e+00</td>\n",
              "      <td>7.829420e+00</td>\n",
              "      <td>5.563325e+00</td>\n",
              "      <td>7.589263e+00</td>\n",
              "      <td>4.018167e+00</td>\n",
              "      <td>4.584289e+00</td>\n",
              "      <td>4.127148e+00</td>\n",
              "      <td>4.735074e+01</td>\n",
              "      <td>6.627110e+00</td>\n",
              "      <td>8.883081e+00</td>\n",
              "      <td>8.691144e+00</td>\n",
              "      <td>6.388802e+00</td>\n",
              "      <td>1.144075e+04</td>\n",
              "    </tr>\n",
              "  </tbody>\n",
              "</table>\n",
              "</div>\n",
              "    <div class=\"colab-df-buttons\">\n",
              "\n",
              "  <div class=\"colab-df-container\">\n",
              "    <button class=\"colab-df-convert\" onclick=\"convertToInteractive('df-8bf778a9-16ee-45e7-b1e8-9307582c301f')\"\n",
              "            title=\"Convert this dataframe to an interactive table.\"\n",
              "            style=\"display:none;\">\n",
              "\n",
              "  <svg xmlns=\"http://www.w3.org/2000/svg\" height=\"24px\" viewBox=\"0 -960 960 960\">\n",
              "    <path d=\"M120-120v-720h720v720H120Zm60-500h600v-160H180v160Zm220 220h160v-160H400v160Zm0 220h160v-160H400v160ZM180-400h160v-160H180v160Zm440 0h160v-160H620v160ZM180-180h160v-160H180v160Zm440 0h160v-160H620v160Z\"/>\n",
              "  </svg>\n",
              "    </button>\n",
              "\n",
              "  <style>\n",
              "    .colab-df-container {\n",
              "      display:flex;\n",
              "      gap: 12px;\n",
              "    }\n",
              "\n",
              "    .colab-df-convert {\n",
              "      background-color: #E8F0FE;\n",
              "      border: none;\n",
              "      border-radius: 50%;\n",
              "      cursor: pointer;\n",
              "      display: none;\n",
              "      fill: #1967D2;\n",
              "      height: 32px;\n",
              "      padding: 0 0 0 0;\n",
              "      width: 32px;\n",
              "    }\n",
              "\n",
              "    .colab-df-convert:hover {\n",
              "      background-color: #E2EBFA;\n",
              "      box-shadow: 0px 1px 2px rgba(60, 64, 67, 0.3), 0px 1px 3px 1px rgba(60, 64, 67, 0.15);\n",
              "      fill: #174EA6;\n",
              "    }\n",
              "\n",
              "    .colab-df-buttons div {\n",
              "      margin-bottom: 4px;\n",
              "    }\n",
              "\n",
              "    [theme=dark] .colab-df-convert {\n",
              "      background-color: #3B4455;\n",
              "      fill: #D2E3FC;\n",
              "    }\n",
              "\n",
              "    [theme=dark] .colab-df-convert:hover {\n",
              "      background-color: #434B5C;\n",
              "      box-shadow: 0px 1px 3px 1px rgba(0, 0, 0, 0.15);\n",
              "      filter: drop-shadow(0px 1px 2px rgba(0, 0, 0, 0.3));\n",
              "      fill: #FFFFFF;\n",
              "    }\n",
              "  </style>\n",
              "\n",
              "    <script>\n",
              "      const buttonEl =\n",
              "        document.querySelector('#df-8bf778a9-16ee-45e7-b1e8-9307582c301f button.colab-df-convert');\n",
              "      buttonEl.style.display =\n",
              "        google.colab.kernel.accessAllowed ? 'block' : 'none';\n",
              "\n",
              "      async function convertToInteractive(key) {\n",
              "        const element = document.querySelector('#df-8bf778a9-16ee-45e7-b1e8-9307582c301f');\n",
              "        const dataTable =\n",
              "          await google.colab.kernel.invokeFunction('convertToInteractive',\n",
              "                                                    [key], {});\n",
              "        if (!dataTable) return;\n",
              "\n",
              "        const docLinkHtml = 'Like what you see? Visit the ' +\n",
              "          '<a target=\"_blank\" href=https://colab.research.google.com/notebooks/data_table.ipynb>data table notebook</a>'\n",
              "          + ' to learn more about interactive tables.';\n",
              "        element.innerHTML = '';\n",
              "        dataTable['output_type'] = 'display_data';\n",
              "        await google.colab.output.renderOutput(dataTable, element);\n",
              "        const docLink = document.createElement('div');\n",
              "        docLink.innerHTML = docLinkHtml;\n",
              "        element.appendChild(docLink);\n",
              "      }\n",
              "    </script>\n",
              "  </div>\n",
              "\n",
              "\n",
              "<div id=\"df-65446c19-8481-4d2e-887b-b305549e3ef4\">\n",
              "  <button class=\"colab-df-quickchart\" onclick=\"quickchart('df-65446c19-8481-4d2e-887b-b305549e3ef4')\"\n",
              "            title=\"Suggest charts.\"\n",
              "            style=\"display:none;\">\n",
              "\n",
              "<svg xmlns=\"http://www.w3.org/2000/svg\" height=\"24px\"viewBox=\"0 0 24 24\"\n",
              "     width=\"24px\">\n",
              "    <g>\n",
              "        <path d=\"M19 3H5c-1.1 0-2 .9-2 2v14c0 1.1.9 2 2 2h14c1.1 0 2-.9 2-2V5c0-1.1-.9-2-2-2zM9 17H7v-7h2v7zm4 0h-2V7h2v10zm4 0h-2v-4h2v4z\"/>\n",
              "    </g>\n",
              "</svg>\n",
              "  </button>\n",
              "\n",
              "<style>\n",
              "  .colab-df-quickchart {\n",
              "      --bg-color: #E8F0FE;\n",
              "      --fill-color: #1967D2;\n",
              "      --hover-bg-color: #E2EBFA;\n",
              "      --hover-fill-color: #174EA6;\n",
              "      --disabled-fill-color: #AAA;\n",
              "      --disabled-bg-color: #DDD;\n",
              "  }\n",
              "\n",
              "  [theme=dark] .colab-df-quickchart {\n",
              "      --bg-color: #3B4455;\n",
              "      --fill-color: #D2E3FC;\n",
              "      --hover-bg-color: #434B5C;\n",
              "      --hover-fill-color: #FFFFFF;\n",
              "      --disabled-bg-color: #3B4455;\n",
              "      --disabled-fill-color: #666;\n",
              "  }\n",
              "\n",
              "  .colab-df-quickchart {\n",
              "    background-color: var(--bg-color);\n",
              "    border: none;\n",
              "    border-radius: 50%;\n",
              "    cursor: pointer;\n",
              "    display: none;\n",
              "    fill: var(--fill-color);\n",
              "    height: 32px;\n",
              "    padding: 0;\n",
              "    width: 32px;\n",
              "  }\n",
              "\n",
              "  .colab-df-quickchart:hover {\n",
              "    background-color: var(--hover-bg-color);\n",
              "    box-shadow: 0 1px 2px rgba(60, 64, 67, 0.3), 0 1px 3px 1px rgba(60, 64, 67, 0.15);\n",
              "    fill: var(--button-hover-fill-color);\n",
              "  }\n",
              "\n",
              "  .colab-df-quickchart-complete:disabled,\n",
              "  .colab-df-quickchart-complete:disabled:hover {\n",
              "    background-color: var(--disabled-bg-color);\n",
              "    fill: var(--disabled-fill-color);\n",
              "    box-shadow: none;\n",
              "  }\n",
              "\n",
              "  .colab-df-spinner {\n",
              "    border: 2px solid var(--fill-color);\n",
              "    border-color: transparent;\n",
              "    border-bottom-color: var(--fill-color);\n",
              "    animation:\n",
              "      spin 1s steps(1) infinite;\n",
              "  }\n",
              "\n",
              "  @keyframes spin {\n",
              "    0% {\n",
              "      border-color: transparent;\n",
              "      border-bottom-color: var(--fill-color);\n",
              "      border-left-color: var(--fill-color);\n",
              "    }\n",
              "    20% {\n",
              "      border-color: transparent;\n",
              "      border-left-color: var(--fill-color);\n",
              "      border-top-color: var(--fill-color);\n",
              "    }\n",
              "    30% {\n",
              "      border-color: transparent;\n",
              "      border-left-color: var(--fill-color);\n",
              "      border-top-color: var(--fill-color);\n",
              "      border-right-color: var(--fill-color);\n",
              "    }\n",
              "    40% {\n",
              "      border-color: transparent;\n",
              "      border-right-color: var(--fill-color);\n",
              "      border-top-color: var(--fill-color);\n",
              "    }\n",
              "    60% {\n",
              "      border-color: transparent;\n",
              "      border-right-color: var(--fill-color);\n",
              "    }\n",
              "    80% {\n",
              "      border-color: transparent;\n",
              "      border-right-color: var(--fill-color);\n",
              "      border-bottom-color: var(--fill-color);\n",
              "    }\n",
              "    90% {\n",
              "      border-color: transparent;\n",
              "      border-bottom-color: var(--fill-color);\n",
              "    }\n",
              "  }\n",
              "</style>\n",
              "\n",
              "  <script>\n",
              "    async function quickchart(key) {\n",
              "      const quickchartButtonEl =\n",
              "        document.querySelector('#' + key + ' button');\n",
              "      quickchartButtonEl.disabled = true;  // To prevent multiple clicks.\n",
              "      quickchartButtonEl.classList.add('colab-df-spinner');\n",
              "      try {\n",
              "        const charts = await google.colab.kernel.invokeFunction(\n",
              "            'suggestCharts', [key], {});\n",
              "      } catch (error) {\n",
              "        console.error('Error during call to suggestCharts:', error);\n",
              "      }\n",
              "      quickchartButtonEl.classList.remove('colab-df-spinner');\n",
              "      quickchartButtonEl.classList.add('colab-df-quickchart-complete');\n",
              "    }\n",
              "    (() => {\n",
              "      let quickchartButtonEl =\n",
              "        document.querySelector('#df-65446c19-8481-4d2e-887b-b305549e3ef4 button');\n",
              "      quickchartButtonEl.style.display =\n",
              "        google.colab.kernel.accessAllowed ? 'block' : 'none';\n",
              "    })();\n",
              "  </script>\n",
              "</div>\n",
              "    </div>\n",
              "  </div>\n"
            ]
          },
          "metadata": {},
          "execution_count": 17
        }
      ],
      "source": [
        "train_data.describe()"
      ]
    },
    {
      "cell_type": "markdown",
      "source": [
        "## Analyse de la variable cible (Target variable)"
      ],
      "metadata": {
        "id": "GOQIqxVztj5d"
      }
    },
    {
      "cell_type": "code",
      "execution_count": null,
      "metadata": {
        "colab": {
          "base_uri": "https://localhost:8080/"
        },
        "id": "oSmMtphdoWVd",
        "outputId": "bbc388eb-9455-4711-8ca0-01f18869fe4f"
      },
      "outputs": [
        {
          "output_type": "execute_result",
          "data": {
            "text/plain": [
              "0.7251433334673312"
            ]
          },
          "metadata": {},
          "execution_count": 28
        }
      ],
      "source": [
        "100*len(train_data[train_data['Claim_Amount']>0]) / len(train_data)"
      ]
    },
    {
      "cell_type": "markdown",
      "source": [
        "## Remarque:\n",
        "Uniquement `0.73%` des montants de sinistres sont strictement supérieurs à zéros."
      ],
      "metadata": {
        "id": "tMyzvDkJsfT-"
      }
    },
    {
      "cell_type": "code",
      "execution_count": null,
      "metadata": {
        "id": "Excrp1AcoWVe",
        "outputId": "614a6606-7ef7-4a3f-e161-fed82bbafdb5",
        "colab": {
          "base_uri": "https://localhost:8080/"
        }
      },
      "outputs": [
        {
          "output_type": "execute_result",
          "data": {
            "text/plain": [
              "99.27485666653267"
            ]
          },
          "metadata": {},
          "execution_count": 32
        }
      ],
      "source": [
        "100*len(train_data[train_data['Claim_Amount']==0]) / len(train_data)"
      ]
    },
    {
      "cell_type": "markdown",
      "source": [
        "## Remarque:\n",
        "`99.3%` des montants de sinistres sont égales à zéros."
      ],
      "metadata": {
        "id": "xQOWVAXAsybv"
      }
    },
    {
      "cell_type": "code",
      "execution_count": 18,
      "metadata": {
        "colab": {
          "base_uri": "https://localhost:8080/"
        },
        "id": "1zowaoEL_q1R",
        "outputId": "b150f730-68db-4fba-9635-8b9e868fb1e2"
      },
      "outputs": [
        {
          "output_type": "stream",
          "name": "stdout",
          "text": [
            "Skewness of Claim_Amount feature is : 70.72036466134124\n"
          ]
        }
      ],
      "source": [
        "a = train_data['Claim_Amount'].skew()\n",
        "print('Skewness of Claim_Amount feature is :', a)"
      ]
    },
    {
      "cell_type": "code",
      "execution_count": 19,
      "metadata": {
        "colab": {
          "base_uri": "https://localhost:8080/",
          "height": 472
        },
        "id": "Nr_QDR2pDhGk",
        "outputId": "23d9fdf0-082d-4102-8cc8-94fbc376e15f"
      },
      "outputs": [
        {
          "output_type": "display_data",
          "data": {
            "text/plain": [
              "<Figure size 2000x500 with 3 Axes>"
            ],
            "image/png": "[encoded data removed]"
          },
          "metadata": {}
        }
      ],
      "source": [
        "fig, (ax1, ax2, ax3) = plt.subplots(1,3)\n",
        "fig.set_size_inches(20, 5)\n",
        "\n",
        "ax1.hist(train_data['Claim_Amount'], bins=50)\n",
        "ax1.set_title('Train Claim_Amount')\n",
        "\n",
        "ax2.hist(np.log(train_data[train_data['Claim_Amount']>0]['Claim_Amount']), bins=50, color='g')\n",
        "ax2.set_title('Train log(Claim_Amount>0)')\n",
        "\n",
        "ax3.hist(np.log(train_data[train_data['Claim_Amount']>0]['Claim_Amount']+200), bins=50, color='g')\n",
        "ax3.set_title('Train log(Claim_Amount with shift)')\n",
        "plt.savefig('./myHistogramAllstate2012.pdf')\n",
        "plt.show();"
      ]
    },
    {
      "cell_type": "code",
      "execution_count": 20,
      "metadata": {
        "id": "CA30WZFXoWVh"
      },
      "outputs": [],
      "source": [
        "train_data_greater_zeros = train_data[train_data['Claim_Amount']>0]"
      ]
    },
    {
      "cell_type": "markdown",
      "metadata": {
        "id": "HxfTo02N9p9R"
      },
      "source": [
        "## Remarque:\n",
        "* Nous pouvons remarquer qu'il y a plusieurs pics dans le graphe de la caractéristique de perte, ce qui représente une perte énorme à un moment donné.\n",
        "* Comme nous remarquons de nombreux pics, nous pouvons dire que les données réelles de cette caractéristique sont biaisées (skewed), ce qui peut entraîner une performance sous-optimale des modèles de régression que nous construisons.\n",
        "* Les données asymétriques (désiquilibrés) ont une incidence considérable sur vos performances."
      ]
    },
    {
      "cell_type": "markdown",
      "metadata": {
        "id": "RANCxlTQ9p9R"
      },
      "source": [
        "## Calculate skewness and see how we can reduce skewness."
      ]
    },
    {
      "cell_type": "code",
      "execution_count": 21,
      "metadata": {
        "colab": {
          "base_uri": "https://localhost:8080/"
        },
        "id": "43BkmWnu9p9R",
        "outputId": "114a7041-5fd9-48ff-f178-c918680529e5"
      },
      "outputs": [
        {
          "output_type": "stream",
          "name": "stdout",
          "text": [
            "Skewness of Claim_Amount feature is : 70.72036466134124\n"
          ]
        }
      ],
      "source": [
        "a = train_data['Claim_Amount'].skew()\n",
        "print('Skewness of Claim_Amount feature is :',a)"
      ]
    },
    {
      "cell_type": "code",
      "execution_count": 22,
      "metadata": {
        "colab": {
          "base_uri": "https://localhost:8080/"
        },
        "id": "YNF6X7Mz9p9R",
        "outputId": "a1202165-fc56-45e2-e3e4-838046a6375d"
      },
      "outputs": [
        {
          "output_type": "stream",
          "name": "stdout",
          "text": [
            "Skewness of Claim_Amount feature after applying log function : -0.3856457407474764\n"
          ]
        }
      ],
      "source": [
        "train_data['logloss'] = np.log(train_data[train_data['Claim_Amount']>0]['Claim_Amount'])\n",
        "print('Skewness of Claim_Amount feature after applying log function :', train_data['logloss'].skew())\n",
        "train_data = train_data.drop(['logloss'],axis = 1)"
      ]
    },
    {
      "cell_type": "markdown",
      "metadata": {
        "id": "AO85z6gb9p9S"
      },
      "source": [
        "## Box plot of target variable"
      ]
    },
    {
      "cell_type": "code",
      "execution_count": 23,
      "metadata": {
        "id": "BVQS8rwM9p9S",
        "outputId": "661c5eda-9186-43e9-a76f-ce113b5a4fa4",
        "colab": {
          "base_uri": "https://localhost:8080/",
          "height": 472
        }
      },
      "outputs": [
        {
          "output_type": "display_data",
          "data": {
            "text/plain": [
              "<Figure size 1400x500 with 2 Axes>"
            ],
            "image/png": "[encoded data removed]"
          },
          "metadata": {}
        }
      ],
      "source": [
        "fig, (ax1, ax2) = plt.subplots(1,2)\n",
        "\n",
        "fig.set_size_inches(14,5)\n",
        "ax1.boxplot(train_data['Claim_Amount'])\n",
        "ax1.set_ylabel('Claim_Amount')\n",
        "ax1.set_title('Box plot of loss feature')\n",
        "\n",
        "#values = uniq_values_in_categories[uniq_values_in_categories.unique_values <= 25].unique_values\n",
        "ax2.set_ylim(1, 10000)\n",
        "ax2.boxplot(train_data['Claim_Amount'])\n",
        "ax2.set_ylabel('Claim_Amount')\n",
        "ax2.set_title('Zoomed version of loss feature')\n",
        "plt.savefig('./myBoxplotAllstate2012.pdf');"
      ]
    },
    {
      "cell_type": "code",
      "source": [],
      "metadata": {
        "id": "5YZuFDRBjoR5"
      },
      "execution_count": 23,
      "outputs": []
    }
  ],
  "metadata": {
    "colab": {
      "gpuType": "T4",
      "machine_shape": "hm",
      "provenance": [],
      "include_colab_link": true
    },
    "kernelspec": {
      "display_name": "Python 3",
      "language": "python",
      "name": "python3"
    },
    "language_info": {
      "codemirror_mode": {
        "name": "ipython",
        "version": 3
      },
      "file_extension": ".py",
      "mimetype": "text/x-python",
      "name": "python",
      "nbconvert_exporter": "python",
      "pygments_lexer": "ipython3",
      "version": "3.8.8"
    }
  },
  "nbformat": 4,
  "nbformat_minor": 0
}