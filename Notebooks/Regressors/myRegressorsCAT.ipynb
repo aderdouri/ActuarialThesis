{
  "cells": [
    {
      "cell_type": "markdown",
      "metadata": {
        "id": "view-in-github",
        "colab_type": "text"
      },
      "source": [
        "<a href=\"https://colab.research.google.com/github/aderdouri/ActuarialThesis/blob/master/Notebooks/Regressors/myRegressorsCAT.ipynb\" target=\"_parent\"><img src=\"https://colab.research.google.com/assets/colab-badge.svg\" alt=\"Open In Colab\"/></a>"
      ]
    },
    {
      "cell_type": "markdown",
      "metadata": {
        "id": "eaB5K5Vnv_Zr"
      },
      "source": [
        "## Cloner la branche contenant le dataset et le code qui va avec."
      ]
    },
    {
      "cell_type": "code",
      "execution_count": 1,
      "metadata": {
        "colab": {
          "base_uri": "https://localhost:8080/"
        },
        "id": "MIzuG9lLv-qB",
        "outputId": "b0b43bc0-31df-46fd-c890-730933cf8496"
      },
      "outputs": [
        {
          "output_type": "stream",
          "name": "stdout",
          "text": [
            "Cloning into 'ActuarialThesis'...\n",
            "remote: Enumerating objects: 1115, done.\u001b[K\n",
            "remote: Counting objects: 100% (398/398), done.\u001b[K\n",
            "remote: Compressing objects: 100% (212/212), done.\u001b[K\n",
            "remote: Total 1115 (delta 216), reused 347 (delta 184), pack-reused 717\u001b[K\n",
            "Receiving objects: 100% (1115/1115), 134.07 MiB | 3.68 MiB/s, done.\n",
            "Resolving deltas: 100% (506/506), done.\n",
            "total 24\n",
            "drwxr-xr-x 2 root root 4096 Nov 15 13:02 \u001b[0m\u001b[01;34mData\u001b[0m/\n",
            "drwxr-xr-x 2 root root 4096 Nov 15 13:02 \u001b[01;34mEMTboost\u001b[0m/\n",
            "drwxr-xr-x 6 root root 4096 Nov 15 13:02 \u001b[01;34mNotebooks\u001b[0m/\n",
            "drwxr-xr-x 2 root root 4096 Nov 15 13:02 \u001b[01;34mR\u001b[0m/\n",
            "drwxr-xr-x 2 root root 4096 Nov 15 13:02 \u001b[01;34msrc\u001b[0m/\n",
            "-rw-r--r-- 1 root root   54 Nov 15 13:02 README.md\n"
          ]
        }
      ],
      "source": [
        "!rm -rf ActuarialThesis\n",
        "!git clone https://github.com/aderdouri/ActuarialThesis.git\n",
        "%ls -ltr ActuarialThesis"
      ]
    },
    {
      "cell_type": "code",
      "execution_count": 2,
      "metadata": {
        "colab": {
          "base_uri": "https://localhost:8080/"
        },
        "id": "_rUJ_QVHwJ6h",
        "outputId": "53b64259-c181-4fe2-e7d1-52ad7c3eb4c2"
      },
      "outputs": [
        {
          "output_type": "stream",
          "name": "stdout",
          "text": [
            "total 0\n"
          ]
        }
      ],
      "source": [
        "!mkdir ActuarialThesis/plots_rgr\n",
        "!ls -ltr ActuarialThesis/plots_rgr"
      ]
    },
    {
      "cell_type": "code",
      "execution_count": 3,
      "metadata": {
        "id": "WNxNTNl3wPGZ"
      },
      "outputs": [],
      "source": [
        "# Ajouter le répértoire src\n",
        "import sys\n",
        "sys.path.insert(0,'./ActuarialThesis/src/')"
      ]
    },
    {
      "cell_type": "code",
      "execution_count": 4,
      "metadata": {
        "id": "gQK3czwfwQn0"
      },
      "outputs": [],
      "source": [
        "import installHelper"
      ]
    },
    {
      "cell_type": "code",
      "execution_count": 5,
      "metadata": {
        "colab": {
          "base_uri": "https://localhost:8080/"
        },
        "id": "ZsHliYDgwYKP",
        "outputId": "61b0dde2-74e7-43a4-cc65-fd6e01951e74"
      },
      "outputs": [
        {
          "output_type": "stream",
          "name": "stdout",
          "text": [
            "CPU times: user 585 ms, sys: 80.4 ms, total: 665 ms\n",
            "Wall time: 2min 15s\n"
          ]
        }
      ],
      "source": [
        "# Installer les packages nécéssaires\n",
        "%time installHelper.installALL()"
      ]
    },
    {
      "cell_type": "code",
      "execution_count": 6,
      "metadata": {
        "colab": {
          "base_uri": "https://localhost:8080/"
        },
        "id": "jPdM42hywbNJ",
        "outputId": "3f37a8ce-eae4-47b1-ede4-89fe8046ec28"
      },
      "outputs": [
        {
          "output_type": "stream",
          "name": "stdout",
          "text": [
            "catboost                         1.2.2                 /usr/local/lib/python3.10/dist-packages pip\n",
            "imbalanced-learn                 0.10.1                /usr/local/lib/python3.10/dist-packages pip\n",
            "lime                             0.2.0.1               /usr/local/lib/python3.10/dist-packages pip\n",
            "optuna                           3.4.0                 /usr/local/lib/python3.10/dist-packages pip\n",
            "shap                             0.43.0                /usr/local/lib/python3.10/dist-packages pip\n",
            "shapely                          2.0.2                 /usr/local/lib/python3.10/dist-packages pip\n"
          ]
        }
      ],
      "source": [
        "# On doit trouver tous les packages mentionés dans le grep\n",
        "!pip list -v | grep -e catboost -e 'imbalanced-learn' -e 'optuna' -e 'catboost' -e 'lime' -e 'shap'"
      ]
    },
    {
      "cell_type": "code",
      "execution_count": 7,
      "metadata": {
        "id": "NwMKtyB7wgPm"
      },
      "outputs": [],
      "source": [
        "# Importer les packages nécéssaires\n",
        "from helper import *"
      ]
    },
    {
      "cell_type": "code",
      "execution_count": 8,
      "metadata": {
        "id": "WWAzE3wBwiOs"
      },
      "outputs": [],
      "source": [
        "# Appliquer le theme par défaut\n",
        "sns.set_theme()"
      ]
    },
    {
      "cell_type": "code",
      "source": [
        "!ls -ltr ActuarialThesis/Data"
      ],
      "metadata": {
        "colab": {
          "base_uri": "https://localhost:8080/"
        },
        "id": "zkhSy_99Ti3y",
        "outputId": "e599bb9d-a64e-4615-9fbc-5780ace0c19e"
      },
      "execution_count": 9,
      "outputs": [
        {
          "output_type": "stream",
          "name": "stdout",
          "text": [
            "total 46044\n",
            "-rw-r--r-- 1 root root   562212 Nov 15 13:02 BASEAUTO.csv\n",
            "-rw-r--r-- 1 root root   201188 Nov 15 13:02 df_models.csv\n",
            "-rw-r--r-- 1 root root  3263186 Nov 15 13:02 encodedBASEAUTO.csv\n",
            "-rw-r--r-- 1 root root  3273326 Nov 15 13:02 encodedCategoricalBASEAUTO.csv\n",
            "-rw-r--r-- 1 root root  2236112 Nov 15 13:02 encodedTDboostEMTDboost.csv\n",
            "-rw-r--r-- 1 root root   698687 Nov 15 13:02 encodedTestBASEAUTO.csv\n",
            "-rw-r--r-- 1 root root  2792067 Nov 15 13:02 encodedTrainBASEAUTO.csv\n",
            "-rw-r--r-- 1 root root 31528920 Nov 15 13:02 freMTPL2freq.csv\n",
            "-rw-r--r-- 1 root root   403127 Nov 15 13:02 freMTPL2sev.csv\n",
            "-rw-r--r-- 1 root root   846739 Nov 15 13:02 transformedBASEAUTO.csv\n",
            "-rw-r--r-- 1 root root   580225 Nov 15 13:02 transformedCatBASEAUTO.csv\n",
            "-rw-r--r-- 1 root root   738484 Nov 15 13:02 transformedCategorialBASEAUTO.csv\n"
          ]
        }
      ]
    },
    {
      "cell_type": "code",
      "source": [
        "df = pd.read_csv('ActuarialThesis/Data/transformedCategorialBASEAUTO.csv')\n",
        "df.head()"
      ],
      "metadata": {
        "colab": {
          "base_uri": "https://localhost:8080/",
          "height": 206
        },
        "id": "Xl6XOb_wTseA",
        "outputId": "03d99d78-09e8-43d7-dcfa-eb2f3ed27b11"
      },
      "execution_count": 10,
      "outputs": [
        {
          "output_type": "execute_result",
          "data": {
            "text/plain": [
              "  SEX STATUT    CSP         USAGE K8000  RM  CAR CLA  ALI ENE      VIT SEGM  \\\n",
              "0   F      C     50  Prive_Trajet     N  64  BER   A  CAR  ES  130-140    A   \n",
              "1   F      A     50         Prive     N  50  BER   A  CAR  ES  001-130    0   \n",
              "2   F      C  AUTRE  Prive_Trajet     N  95  BER   A  CAR  ES  001-130    0   \n",
              "3   F      A     50         Prive     N  50  BER   A  CAR  ES  001-130    0   \n",
              "4   F      A     50         Prive     N  95  BER   A  CAR  ES  140-150    B   \n",
              "\n",
              "   CHARGE GARAGE AGECOND_CAT ACV_CAT  \n",
              "0     0.0  Autre       35_45    >=10  \n",
              "1     0.0  Autre       55_70    >=10  \n",
              "2     0.0  Autre        <=21    >=10  \n",
              "3     0.0  Autre       55_70    >=10  \n",
              "4     0.0  Autre       25_35    >=10  "
            ],
            "text/html": [
              "\n",
              "  <div id=\"df-1c45df5b-27d4-4694-a45e-570a931fe6df\" class=\"colab-df-container\">\n",
              "    <div>\n",
              "<style scoped>\n",
              "    .dataframe tbody tr th:only-of-type {\n",
              "        vertical-align: middle;\n",
              "    }\n",
              "\n",
              "    .dataframe tbody tr th {\n",
              "        vertical-align: top;\n",
              "    }\n",
              "\n",
              "    .dataframe thead th {\n",
              "        text-align: right;\n",
              "    }\n",
              "</style>\n",
              "<table border=\"1\" class=\"dataframe\">\n",
              "  <thead>\n",
              "    <tr style=\"text-align: right;\">\n",
              "      <th></th>\n",
              "      <th>SEX</th>\n",
              "      <th>STATUT</th>\n",
              "      <th>CSP</th>\n",
              "      <th>USAGE</th>\n",
              "      <th>K8000</th>\n",
              "      <th>RM</th>\n",
              "      <th>CAR</th>\n",
              "      <th>CLA</th>\n",
              "      <th>ALI</th>\n",
              "      <th>ENE</th>\n",
              "      <th>VIT</th>\n",
              "      <th>SEGM</th>\n",
              "      <th>CHARGE</th>\n",
              "      <th>GARAGE</th>\n",
              "      <th>AGECOND_CAT</th>\n",
              "      <th>ACV_CAT</th>\n",
              "    </tr>\n",
              "  </thead>\n",
              "  <tbody>\n",
              "    <tr>\n",
              "      <th>0</th>\n",
              "      <td>F</td>\n",
              "      <td>C</td>\n",
              "      <td>50</td>\n",
              "      <td>Prive_Trajet</td>\n",
              "      <td>N</td>\n",
              "      <td>64</td>\n",
              "      <td>BER</td>\n",
              "      <td>A</td>\n",
              "      <td>CAR</td>\n",
              "      <td>ES</td>\n",
              "      <td>130-140</td>\n",
              "      <td>A</td>\n",
              "      <td>0.0</td>\n",
              "      <td>Autre</td>\n",
              "      <td>35_45</td>\n",
              "      <td>&gt;=10</td>\n",
              "    </tr>\n",
              "    <tr>\n",
              "      <th>1</th>\n",
              "      <td>F</td>\n",
              "      <td>A</td>\n",
              "      <td>50</td>\n",
              "      <td>Prive</td>\n",
              "      <td>N</td>\n",
              "      <td>50</td>\n",
              "      <td>BER</td>\n",
              "      <td>A</td>\n",
              "      <td>CAR</td>\n",
              "      <td>ES</td>\n",
              "      <td>001-130</td>\n",
              "      <td>0</td>\n",
              "      <td>0.0</td>\n",
              "      <td>Autre</td>\n",
              "      <td>55_70</td>\n",
              "      <td>&gt;=10</td>\n",
              "    </tr>\n",
              "    <tr>\n",
              "      <th>2</th>\n",
              "      <td>F</td>\n",
              "      <td>C</td>\n",
              "      <td>AUTRE</td>\n",
              "      <td>Prive_Trajet</td>\n",
              "      <td>N</td>\n",
              "      <td>95</td>\n",
              "      <td>BER</td>\n",
              "      <td>A</td>\n",
              "      <td>CAR</td>\n",
              "      <td>ES</td>\n",
              "      <td>001-130</td>\n",
              "      <td>0</td>\n",
              "      <td>0.0</td>\n",
              "      <td>Autre</td>\n",
              "      <td>&lt;=21</td>\n",
              "      <td>&gt;=10</td>\n",
              "    </tr>\n",
              "    <tr>\n",
              "      <th>3</th>\n",
              "      <td>F</td>\n",
              "      <td>A</td>\n",
              "      <td>50</td>\n",
              "      <td>Prive</td>\n",
              "      <td>N</td>\n",
              "      <td>50</td>\n",
              "      <td>BER</td>\n",
              "      <td>A</td>\n",
              "      <td>CAR</td>\n",
              "      <td>ES</td>\n",
              "      <td>001-130</td>\n",
              "      <td>0</td>\n",
              "      <td>0.0</td>\n",
              "      <td>Autre</td>\n",
              "      <td>55_70</td>\n",
              "      <td>&gt;=10</td>\n",
              "    </tr>\n",
              "    <tr>\n",
              "      <th>4</th>\n",
              "      <td>F</td>\n",
              "      <td>A</td>\n",
              "      <td>50</td>\n",
              "      <td>Prive</td>\n",
              "      <td>N</td>\n",
              "      <td>95</td>\n",
              "      <td>BER</td>\n",
              "      <td>A</td>\n",
              "      <td>CAR</td>\n",
              "      <td>ES</td>\n",
              "      <td>140-150</td>\n",
              "      <td>B</td>\n",
              "      <td>0.0</td>\n",
              "      <td>Autre</td>\n",
              "      <td>25_35</td>\n",
              "      <td>&gt;=10</td>\n",
              "    </tr>\n",
              "  </tbody>\n",
              "</table>\n",
              "</div>\n",
              "    <div class=\"colab-df-buttons\">\n",
              "\n",
              "  <div class=\"colab-df-container\">\n",
              "    <button class=\"colab-df-convert\" onclick=\"convertToInteractive('df-1c45df5b-27d4-4694-a45e-570a931fe6df')\"\n",
              "            title=\"Convert this dataframe to an interactive table.\"\n",
              "            style=\"display:none;\">\n",
              "\n",
              "  <svg xmlns=\"http://www.w3.org/2000/svg\" height=\"24px\" viewBox=\"0 -960 960 960\">\n",
              "    <path d=\"M120-120v-720h720v720H120Zm60-500h600v-160H180v160Zm220 220h160v-160H400v160Zm0 220h160v-160H400v160ZM180-400h160v-160H180v160Zm440 0h160v-160H620v160ZM180-180h160v-160H180v160Zm440 0h160v-160H620v160Z\"/>\n",
              "  </svg>\n",
              "    </button>\n",
              "\n",
              "  <style>\n",
              "    .colab-df-container {\n",
              "      display:flex;\n",
              "      gap: 12px;\n",
              "    }\n",
              "\n",
              "    .colab-df-convert {\n",
              "      background-color: #E8F0FE;\n",
              "      border: none;\n",
              "      border-radius: 50%;\n",
              "      cursor: pointer;\n",
              "      display: none;\n",
              "      fill: #1967D2;\n",
              "      height: 32px;\n",
              "      padding: 0 0 0 0;\n",
              "      width: 32px;\n",
              "    }\n",
              "\n",
              "    .colab-df-convert:hover {\n",
              "      background-color: #E2EBFA;\n",
              "      box-shadow: 0px 1px 2px rgba(60, 64, 67, 0.3), 0px 1px 3px 1px rgba(60, 64, 67, 0.15);\n",
              "      fill: #174EA6;\n",
              "    }\n",
              "\n",
              "    .colab-df-buttons div {\n",
              "      margin-bottom: 4px;\n",
              "    }\n",
              "\n",
              "    [theme=dark] .colab-df-convert {\n",
              "      background-color: #3B4455;\n",
              "      fill: #D2E3FC;\n",
              "    }\n",
              "\n",
              "    [theme=dark] .colab-df-convert:hover {\n",
              "      background-color: #434B5C;\n",
              "      box-shadow: 0px 1px 3px 1px rgba(0, 0, 0, 0.15);\n",
              "      filter: drop-shadow(0px 1px 2px rgba(0, 0, 0, 0.3));\n",
              "      fill: #FFFFFF;\n",
              "    }\n",
              "  </style>\n",
              "\n",
              "    <script>\n",
              "      const buttonEl =\n",
              "        document.querySelector('#df-1c45df5b-27d4-4694-a45e-570a931fe6df button.colab-df-convert');\n",
              "      buttonEl.style.display =\n",
              "        google.colab.kernel.accessAllowed ? 'block' : 'none';\n",
              "\n",
              "      async function convertToInteractive(key) {\n",
              "        const element = document.querySelector('#df-1c45df5b-27d4-4694-a45e-570a931fe6df');\n",
              "        const dataTable =\n",
              "          await google.colab.kernel.invokeFunction('convertToInteractive',\n",
              "                                                    [key], {});\n",
              "        if (!dataTable) return;\n",
              "\n",
              "        const docLinkHtml = 'Like what you see? Visit the ' +\n",
              "          '<a target=\"_blank\" href=https://colab.research.google.com/notebooks/data_table.ipynb>data table notebook</a>'\n",
              "          + ' to learn more about interactive tables.';\n",
              "        element.innerHTML = '';\n",
              "        dataTable['output_type'] = 'display_data';\n",
              "        await google.colab.output.renderOutput(dataTable, element);\n",
              "        const docLink = document.createElement('div');\n",
              "        docLink.innerHTML = docLinkHtml;\n",
              "        element.appendChild(docLink);\n",
              "      }\n",
              "    </script>\n",
              "  </div>\n",
              "\n",
              "\n",
              "<div id=\"df-b3d54b6c-9b23-4617-9a2d-8b98a985072f\">\n",
              "  <button class=\"colab-df-quickchart\" onclick=\"quickchart('df-b3d54b6c-9b23-4617-9a2d-8b98a985072f')\"\n",
              "            title=\"Suggest charts\"\n",
              "            style=\"display:none;\">\n",
              "\n",
              "<svg xmlns=\"http://www.w3.org/2000/svg\" height=\"24px\"viewBox=\"0 0 24 24\"\n",
              "     width=\"24px\">\n",
              "    <g>\n",
              "        <path d=\"M19 3H5c-1.1 0-2 .9-2 2v14c0 1.1.9 2 2 2h14c1.1 0 2-.9 2-2V5c0-1.1-.9-2-2-2zM9 17H7v-7h2v7zm4 0h-2V7h2v10zm4 0h-2v-4h2v4z\"/>\n",
              "    </g>\n",
              "</svg>\n",
              "  </button>\n",
              "\n",
              "<style>\n",
              "  .colab-df-quickchart {\n",
              "      --bg-color: #E8F0FE;\n",
              "      --fill-color: #1967D2;\n",
              "      --hover-bg-color: #E2EBFA;\n",
              "      --hover-fill-color: #174EA6;\n",
              "      --disabled-fill-color: #AAA;\n",
              "      --disabled-bg-color: #DDD;\n",
              "  }\n",
              "\n",
              "  [theme=dark] .colab-df-quickchart {\n",
              "      --bg-color: #3B4455;\n",
              "      --fill-color: #D2E3FC;\n",
              "      --hover-bg-color: #434B5C;\n",
              "      --hover-fill-color: #FFFFFF;\n",
              "      --disabled-bg-color: #3B4455;\n",
              "      --disabled-fill-color: #666;\n",
              "  }\n",
              "\n",
              "  .colab-df-quickchart {\n",
              "    background-color: var(--bg-color);\n",
              "    border: none;\n",
              "    border-radius: 50%;\n",
              "    cursor: pointer;\n",
              "    display: none;\n",
              "    fill: var(--fill-color);\n",
              "    height: 32px;\n",
              "    padding: 0;\n",
              "    width: 32px;\n",
              "  }\n",
              "\n",
              "  .colab-df-quickchart:hover {\n",
              "    background-color: var(--hover-bg-color);\n",
              "    box-shadow: 0 1px 2px rgba(60, 64, 67, 0.3), 0 1px 3px 1px rgba(60, 64, 67, 0.15);\n",
              "    fill: var(--button-hover-fill-color);\n",
              "  }\n",
              "\n",
              "  .colab-df-quickchart-complete:disabled,\n",
              "  .colab-df-quickchart-complete:disabled:hover {\n",
              "    background-color: var(--disabled-bg-color);\n",
              "    fill: var(--disabled-fill-color);\n",
              "    box-shadow: none;\n",
              "  }\n",
              "\n",
              "  .colab-df-spinner {\n",
              "    border: 2px solid var(--fill-color);\n",
              "    border-color: transparent;\n",
              "    border-bottom-color: var(--fill-color);\n",
              "    animation:\n",
              "      spin 1s steps(1) infinite;\n",
              "  }\n",
              "\n",
              "  @keyframes spin {\n",
              "    0% {\n",
              "      border-color: transparent;\n",
              "      border-bottom-color: var(--fill-color);\n",
              "      border-left-color: var(--fill-color);\n",
              "    }\n",
              "    20% {\n",
              "      border-color: transparent;\n",
              "      border-left-color: var(--fill-color);\n",
              "      border-top-color: var(--fill-color);\n",
              "    }\n",
              "    30% {\n",
              "      border-color: transparent;\n",
              "      border-left-color: var(--fill-color);\n",
              "      border-top-color: var(--fill-color);\n",
              "      border-right-color: var(--fill-color);\n",
              "    }\n",
              "    40% {\n",
              "      border-color: transparent;\n",
              "      border-right-color: var(--fill-color);\n",
              "      border-top-color: var(--fill-color);\n",
              "    }\n",
              "    60% {\n",
              "      border-color: transparent;\n",
              "      border-right-color: var(--fill-color);\n",
              "    }\n",
              "    80% {\n",
              "      border-color: transparent;\n",
              "      border-right-color: var(--fill-color);\n",
              "      border-bottom-color: var(--fill-color);\n",
              "    }\n",
              "    90% {\n",
              "      border-color: transparent;\n",
              "      border-bottom-color: var(--fill-color);\n",
              "    }\n",
              "  }\n",
              "</style>\n",
              "\n",
              "  <script>\n",
              "    async function quickchart(key) {\n",
              "      const quickchartButtonEl =\n",
              "        document.querySelector('#' + key + ' button');\n",
              "      quickchartButtonEl.disabled = true;  // To prevent multiple clicks.\n",
              "      quickchartButtonEl.classList.add('colab-df-spinner');\n",
              "      try {\n",
              "        const charts = await google.colab.kernel.invokeFunction(\n",
              "            'suggestCharts', [key], {});\n",
              "      } catch (error) {\n",
              "        console.error('Error during call to suggestCharts:', error);\n",
              "      }\n",
              "      quickchartButtonEl.classList.remove('colab-df-spinner');\n",
              "      quickchartButtonEl.classList.add('colab-df-quickchart-complete');\n",
              "    }\n",
              "    (() => {\n",
              "      let quickchartButtonEl =\n",
              "        document.querySelector('#df-b3d54b6c-9b23-4617-9a2d-8b98a985072f button');\n",
              "      quickchartButtonEl.style.display =\n",
              "        google.colab.kernel.accessAllowed ? 'block' : 'none';\n",
              "    })();\n",
              "  </script>\n",
              "</div>\n",
              "    </div>\n",
              "  </div>\n"
            ]
          },
          "metadata": {},
          "execution_count": 10
        }
      ]
    },
    {
      "cell_type": "code",
      "source": [
        "df.info()"
      ],
      "metadata": {
        "id": "eUgUsXzHZ4M4",
        "outputId": "0aa8ed6a-c7b2-4a83-ae9e-de616956fe79",
        "colab": {
          "base_uri": "https://localhost:8080/"
        }
      },
      "execution_count": 11,
      "outputs": [
        {
          "output_type": "stream",
          "name": "stdout",
          "text": [
            "<class 'pandas.core.frame.DataFrame'>\n",
            "RangeIndex: 10496 entries, 0 to 10495\n",
            "Data columns (total 16 columns):\n",
            " #   Column       Non-Null Count  Dtype  \n",
            "---  ------       --------------  -----  \n",
            " 0   SEX          10496 non-null  object \n",
            " 1   STATUT       10496 non-null  object \n",
            " 2   CSP          10496 non-null  object \n",
            " 3   USAGE        10496 non-null  object \n",
            " 4   K8000        10496 non-null  object \n",
            " 5   RM           10496 non-null  int64  \n",
            " 6   CAR          10496 non-null  object \n",
            " 7   CLA          10496 non-null  object \n",
            " 8   ALI          10496 non-null  object \n",
            " 9   ENE          10496 non-null  object \n",
            " 10  VIT          10496 non-null  object \n",
            " 11  SEGM         10496 non-null  object \n",
            " 12  CHARGE       10496 non-null  float64\n",
            " 13  GARAGE       10496 non-null  object \n",
            " 14  AGECOND_CAT  10496 non-null  object \n",
            " 15  ACV_CAT      10496 non-null  object \n",
            "dtypes: float64(1), int64(1), object(14)\n",
            "memory usage: 1.3+ MB\n"
          ]
        }
      ]
    },
    {
      "cell_type": "code",
      "source": [
        "# Supprimer les gros sinistres\n",
        "df = df[df['CHARGE']<=5000]"
      ],
      "metadata": {
        "id": "kFEKyOSt7YZb"
      },
      "execution_count": 12,
      "outputs": []
    },
    {
      "cell_type": "markdown",
      "metadata": {
        "id": "l3Nm2HxiwfqU"
      },
      "source": [
        "## Partir du dataset déjà encodé."
      ]
    },
    {
      "cell_type": "code",
      "execution_count": 13,
      "metadata": {
        "id": "PQRPE7soxBv7"
      },
      "outputs": [],
      "source": [
        "X = df.drop('CHARGE', axis=1)\n",
        "y = df['CHARGE']\n",
        "\n",
        "# Split the train set into Train/Test sets: 80:20\n",
        "X_train, X_test, y_train, y_test = train_test_split(X, y, test_size=0.2, random_state=13)"
      ]
    },
    {
      "cell_type": "code",
      "source": [
        "X_train.shape, y_train.shape, X_test.shape, y_test.shape"
      ],
      "metadata": {
        "colab": {
          "base_uri": "https://localhost:8080/"
        },
        "id": "EvFdV4S98zzo",
        "outputId": "3e7a3de7-3b7c-4820-80dc-d6dae007f403"
      },
      "execution_count": 14,
      "outputs": [
        {
          "output_type": "execute_result",
          "data": {
            "text/plain": [
              "((8327, 15), (8327,), (2082, 15), (2082,))"
            ]
          },
          "metadata": {},
          "execution_count": 14
        }
      ]
    },
    {
      "cell_type": "code",
      "source": [
        "X_train.columns"
      ],
      "metadata": {
        "colab": {
          "base_uri": "https://localhost:8080/"
        },
        "id": "M-TdFr_ECAW_",
        "outputId": "007d3bad-2e64-4be7-bfd4-a9efb358ed6f"
      },
      "execution_count": 15,
      "outputs": [
        {
          "output_type": "execute_result",
          "data": {
            "text/plain": [
              "Index(['SEX', 'STATUT', 'CSP', 'USAGE', 'K8000', 'RM', 'CAR', 'CLA', 'ALI',\n",
              "       'ENE', 'VIT', 'SEGM', 'GARAGE', 'AGECOND_CAT', 'ACV_CAT'],\n",
              "      dtype='object')"
            ]
          },
          "metadata": {},
          "execution_count": 15
        }
      ]
    },
    {
      "cell_type": "markdown",
      "source": [
        "## CatBoostRegressor"
      ],
      "metadata": {
        "id": "0F57z45aJKTC"
      }
    },
    {
      "cell_type": "code",
      "source": [
        "cat_features = ['SEX', 'STATUT', 'CSP', 'USAGE', 'K8000', 'CAR', 'CLA', 'ALI', 'ENE', 'VIT', 'SEGM', 'GARAGE', 'AGECOND_CAT', 'ACV_CAT']"
      ],
      "metadata": {
        "id": "aWdHeyHt_42h"
      },
      "execution_count": 16,
      "outputs": []
    },
    {
      "cell_type": "code",
      "source": [
        "train_pool = Pool(X_train, label=y_train,\n",
        "                  cat_features=cat_features)\n",
        "test_pool = Pool(X_test, label=y_test,\n",
        "                 cat_features=cat_features)\n",
        "\n",
        "#cb_tweedie = CatBoostRegressor(loss_function='Tweedie:variance_power=1.9', n_estimators=500, silent=True)\n",
        "#cb_tweedie.fit(train_pool, eval_set=test_pool)\n",
        "\n",
        "#cb_rmse = CatBoostRegressor(loss_function='RMSE', n_estimators=500, silent=True)\n",
        "#cb_rmse.fit(train_pool, eval_set=test_pool)"
      ],
      "metadata": {
        "id": "8YH1sU4o_w6S"
      },
      "execution_count": 17,
      "outputs": []
    },
    {
      "cell_type": "code",
      "source": [
        "from sklearn.model_selection import GridSearchCV\n",
        "\n",
        "model = CatBoostRegressor(n_estimators=1000, silent=True)\n",
        "parameters = {\n",
        "    'learning_rate': [0.001, 0.01, 0.02, 0.03, 0.1],\n",
        "    'depth': [2, 4, 6],\n",
        "    'l2_leaf_reg': [3, 5, 7, 9],\n",
        "    'loss_function' : ['Tweedie:variance_power='+str(var_power) for var_power in np.linspace(1.01, 1.999, 10)]\n",
        "    }\n",
        "\n",
        "grid = GridSearchCV(estimator=model, param_grid = parameters, cv = 2, n_jobs=-1)\n",
        "grid.fit(X_train, y_train, cat_features=cat_features)"
      ],
      "metadata": {
        "id": "HobeKXTiQLed"
      },
      "execution_count": null,
      "outputs": []
    },
    {
      "cell_type": "code",
      "source": [
        "grid.best_params_"
      ],
      "metadata": {
        "id": "j2zjiR2GSI8V"
      },
      "execution_count": null,
      "outputs": []
    },
    {
      "cell_type": "code",
      "execution_count": null,
      "metadata": {
        "id": "4XZs7RFdzF6k"
      },
      "outputs": [],
      "source": [
        "from catboost import Pool\n",
        "\n",
        "#train_pool = Pool(X_train, label = y_train, cat_features=cat_features)\n",
        "#test_pool = Pool(X_test, label = y_test, cat_features=cat_features)\n",
        "\n",
        "cb_tweedie = CatBoostRegressor(n_estimators=1000,\n",
        "                               depth=2,\n",
        "                               l2_leaf_reg=9,\n",
        "                               learning_rate=0.01,\n",
        "                               #use_best_model=True,\n",
        "                               loss_function='Tweedie:variance_power=1.6693333333333333',\n",
        "                               silent=True)\n",
        "cb_tweedie.fit(X_train, y_train, eval_set=test_pool, cat_features=cat_features)\n",
        "\n",
        "#cb_rmse = CatBoostRegressor(n_estimators=1000, loss_function='RMSE', silent=True)\n",
        "#cb_rmse.fit(train_pool, eval_set=test_pool, cat_features=cat_features)"
      ]
    },
    {
      "cell_type": "code",
      "execution_count": null,
      "metadata": {
        "id": "H0YVFalN6Mr3"
      },
      "outputs": [],
      "source": [
        "#y_pred_rmse_tweedie = np.clip(cb_rmse.predict(test_pool), 0, None)\n",
        "y_pred_cb_tweedie = cb_tweedie.predict(test_pool)\n",
        "print('MSLE score:')\n",
        "print('\\tCatBoost tweedie loss\\t', mean_squared_log_error(y_test, y_pred_cb_tweedie))"
      ]
    },
    {
      "cell_type": "code",
      "source": [
        "# Mean squared logarithmic error (MSLE)\n",
        "#from sklearn.metrics import mean_squared_log_error"
      ],
      "metadata": {
        "id": "8ao3Z8UpI1bO"
      },
      "execution_count": null,
      "outputs": []
    },
    {
      "cell_type": "code",
      "source": [
        "df_ObsVsPred = df_ObservedVsPredicted(y_test, y_pred_cb_tweedie)\n",
        "fig, ax = plotLiftChart(df_ObsVsPred)\n",
        "fig.savefig('./ActuarialThesis/plots_rgr/myCatBoostRegressorLiftChart.pdf')"
      ],
      "metadata": {
        "id": "JdsmMnvbO_SO"
      },
      "execution_count": null,
      "outputs": []
    },
    {
      "cell_type": "code",
      "source": [
        "df_ObsVsPred = df_ObservedVsPredicted(y_test, y_pred_cb_tweedie)\n",
        "fig, ax = plotLorenzCurve(df_ObsVsPred)\n",
        "fig.savefig('./ActuarialThesis/plots_rgr/myCatBoostRegressorLorenzCurve.pdf')"
      ],
      "metadata": {
        "id": "Yk4iCAISPGEM"
      },
      "execution_count": null,
      "outputs": []
    },
    {
      "cell_type": "markdown",
      "source": [
        "## LightGBMRegressor"
      ],
      "metadata": {
        "id": "ma6eyITjK2kq"
      }
    },
    {
      "cell_type": "code",
      "source": [
        "X = df.drop('CHARGE', axis=1)\n",
        "y = df['CHARGE']\n",
        "\n",
        "# Split the train set into Train/Test sets: 80:20\n",
        "X_train, X_test, y_train, y_test = train_test_split(X, y, test_size=0.4, random_state=13)\n",
        "X_val, X_test, y_val, y_test = train_test_split(X_test, y_test, test_size=0.5, random_state=13)"
      ],
      "metadata": {
        "id": "IOvsGOY23b6K"
      },
      "execution_count": null,
      "outputs": []
    },
    {
      "cell_type": "code",
      "source": [
        "EARLY_STOPPING_ROUND = 100"
      ],
      "metadata": {
        "id": "Rj4TgmyJ3zZZ"
      },
      "execution_count": null,
      "outputs": []
    },
    {
      "cell_type": "code",
      "source": [
        "for c in cat_features:\n",
        "    X_train[c] = X_train[c].astype('category')\n",
        "    X_val[c] = X_val[c].astype('category')\n",
        "    X_test[c] = X_test[c].astype('category')"
      ],
      "metadata": {
        "id": "bLP9fkXx4IP2"
      },
      "execution_count": null,
      "outputs": []
    },
    {
      "cell_type": "code",
      "source": [
        "from sklearn.model_selection import GridSearchCV\n",
        "\n",
        "model = LGBMRegressor(n_estimators=1000, verbose=-1)\n",
        "parameters = {\n",
        "    'learning_rate': [0.001, 0.01, 0.02, 0.03, 0.1],\n",
        "    'max_depth': [2, 4, 6],\n",
        "    #'reg_lambda': [3, 5, 7, 9],\n",
        "    'objective' : ['tweedie_variance_power='+str(var_power) for var_power in np.linspace(1.01, 1.999, 10)]\n",
        "    }\n",
        "\n",
        "grid = GridSearchCV(estimator=model, param_grid = parameters, cv = 2, n_jobs=-1)\n",
        "grid.fit(X_train, y_train)"
      ],
      "metadata": {
        "id": "r-NU0x8G45BD"
      },
      "execution_count": null,
      "outputs": []
    },
    {
      "cell_type": "code",
      "source": [
        "grid.best_params_"
      ],
      "metadata": {
        "id": "9iEfWadw9Z3o"
      },
      "execution_count": null,
      "outputs": []
    },
    {
      "cell_type": "code",
      "source": [
        "lgbm_rgr = LGBMRegressor(objective='tweedie_variance_power=1.03',\n",
        "                         n_estimators=1000,\n",
        "                         learning_rate=0.001,\n",
        "                         max_depth=2,\n",
        "                         random_state=13,\n",
        "                         verbose=-1)\n",
        "\n",
        "lgbm_rgr.fit(X_train, y_train,\n",
        "             eval_set=[(X_val, y_val)],\n",
        "             eval_metric='rmse',\n",
        "             callbacks=[early_stopping(stopping_rounds=EARLY_STOPPING_ROUND),\n",
        "                        #log_evaluation(period=20, show_stdv=True),\n",
        "             ]\n",
        "        )\n",
        "y_pred_lgbm_rgr = lgbm_rgr.predict(X_val)\n",
        "rmse = mean_squared_error(y_val, y_pred_lgbm_rgr, squared=False)\n",
        "print(\"RMSE: %.5f\" % rmse)"
      ],
      "metadata": {
        "id": "Jc-Sevy71ulX"
      },
      "execution_count": null,
      "outputs": []
    },
    {
      "cell_type": "code",
      "source": [
        "#y_pred_rmse_tweedie = np.clip(cb_rmse.predict(test_pool), 0, None)\n",
        "y_pred = lgbm_rgr.predict(X_test)\n",
        "print('MSLE score:')\n",
        "print('\\tCatBoost tweedie loss\\t', mean_squared_log_error(y_test, y_pred))"
      ],
      "metadata": {
        "id": "RII9jB-m2MLl"
      },
      "execution_count": null,
      "outputs": []
    },
    {
      "cell_type": "code",
      "source": [
        "df_ObsVsPred = df_ObservedVsPredicted(y_test, y_pred)\n",
        "fig, ax = plotLiftChart(df_ObsVsPred)\n",
        "fig.savefig('./ActuarialThesis/plots_rgr/myCatBoostRegressorLiftChart.pdf')"
      ],
      "metadata": {
        "id": "hd5A9AnG4htM"
      },
      "execution_count": null,
      "outputs": []
    },
    {
      "cell_type": "code",
      "source": [
        "df_ObsVsPred = df_ObservedVsPredicted(y_test, y_pred)\n",
        "fig, ax = plotLorenzCurve(df_ObsVsPred)\n",
        "fig.savefig('./ActuarialThesis/plots_rgr/myCatBoostRegressorLorenzCurve.pdf')"
      ],
      "metadata": {
        "id": "o_aSSkBX4mxg"
      },
      "execution_count": null,
      "outputs": []
    },
    {
      "cell_type": "code",
      "source": [
        "from sklearn.model_selection import GridSearchCV\n",
        "\n",
        "model = XGBRegressor(n_estimators=1000, enable_categorical=True, silent=True)\n",
        "parameters = {\n",
        "    'objective' : ['reg:tweedie'],\n",
        "    'learning_rate': [0.001, 0.01, 0.02, 0.1],\n",
        "    'depth': [2, 4, 6],\n",
        "    #'l2_leaf_reg': [3, 5, 7, 9],\n",
        "    'subsample': [0.8, 0.9],\n",
        "    'tweedie_variance_power' : np.linspace(1.01, 1.999, 10),\n",
        "    }\n",
        "\n",
        "grid = GridSearchCV(estimator=model, param_grid = parameters, cv = 2, n_jobs=-1)\n",
        "grid.fit(X_train, y_train)"
      ],
      "metadata": {
        "id": "jlLjqDzR-o-d"
      },
      "execution_count": null,
      "outputs": []
    },
    {
      "cell_type": "code",
      "source": [
        "grid.best_params_"
      ],
      "metadata": {
        "id": "Cvw9gXl8DKCO"
      },
      "execution_count": null,
      "outputs": []
    },
    {
      "cell_type": "code",
      "source": [
        "xgb_rgr = XGBRegressor(objective='reg:tweedie',\n",
        "                       tweedie_variance_power=1.2297777777777779,\n",
        "                       n_estimators=1000,\n",
        "                       learning_rate=0.001,\n",
        "                       max_depth=2,\n",
        "                       subsample = 0.8,\n",
        "                       #early_stopping_rounds=50,\n",
        "                       enable_categorical=True,\n",
        "                       random_state=13\n",
        "                       )\n",
        "\n",
        "xgb_rgr.fit(X_train, y_train,\n",
        "        eval_set=[(X_val, y_val)],\n",
        "        verbose=False)\n",
        "\n",
        "y_pred_xgb_rgr = xgb_rgr.predict(X_test)\n",
        "rmse = mean_squared_error(y_test, y_pred_xgb_rgr, squared=False)\n",
        "print(\"RMSE: %.5f\" % rmse)"
      ],
      "metadata": {
        "id": "E4Gvtoy44t-7"
      },
      "execution_count": null,
      "outputs": []
    },
    {
      "cell_type": "code",
      "source": [
        "#y_pred_rmse_tweedie = np.clip(cb_rmse.predict(test_pool), 0, None)\n",
        "y_pred = xgb_rgr.predict(X_test)\n",
        "print('MSLE score:')\n",
        "print('\\tCatBoost tweedie loss\\t', mean_squared_log_error(y_test, y_pred))"
      ],
      "metadata": {
        "id": "H13fQAeM-Bkd"
      },
      "execution_count": null,
      "outputs": []
    },
    {
      "cell_type": "code",
      "source": [
        "df_ObsVsPred = df_ObservedVsPredicted(y_test, y_pred)\n",
        "fig, ax = plotLiftChart(df_ObsVsPred)\n",
        "fig.savefig('./ActuarialThesis/plots_rgr/myCatBoostRegressorLiftChart.pdf')"
      ],
      "metadata": {
        "id": "T4ouR8Cu9_Mh"
      },
      "execution_count": null,
      "outputs": []
    },
    {
      "cell_type": "code",
      "source": [
        "df_ObsVsPred = df_ObservedVsPredicted(y_test, y_pred)\n",
        "fig, ax = plotLorenzCurve(df_ObsVsPred)\n",
        "fig.savefig('./ActuarialThesis/plots_rgr/myCatBoostRegressorLorenzCurve.pdf')"
      ],
      "metadata": {
        "id": "H8Wuljkt9sMi"
      },
      "execution_count": null,
      "outputs": []
    },
    {
      "cell_type": "code",
      "source": [
        "import xgboost as xgb\n",
        "# Get a graph\n",
        "graph = xgb.to_graphviz(xgb_rgr, num_trees=1)\n",
        "# Or get a matplotlib axis\n",
        "ax = xgb.plot_tree(xgb_rgr, num_trees=1)\n",
        "# Get feature importances\n",
        "xgb_rgr.feature_importances_"
      ],
      "metadata": {
        "id": "UH74pysi-GZT"
      },
      "execution_count": null,
      "outputs": []
    },
    {
      "cell_type": "code",
      "source": [],
      "metadata": {
        "id": "VDh5vhliEWEd"
      },
      "execution_count": null,
      "outputs": []
    }
  ],
  "metadata": {
    "colab": {
      "machine_shape": "hm",
      "provenance": [],
      "include_colab_link": true
    },
    "coursera": {
      "schema_names": [
        "ensembling-techniques-task-week-2"
      ]
    },
    "kernelspec": {
      "display_name": "Python 3",
      "name": "python3"
    },
    "language_info": {
      "codemirror_mode": {
        "name": "ipython",
        "version": 3
      },
      "file_extension": ".py",
      "mimetype": "text/x-python",
      "name": "python",
      "nbconvert_exporter": "python",
      "pygments_lexer": "ipython3",
      "version": "3.7.6"
    }
  },
  "nbformat": 4,
  "nbformat_minor": 0
}