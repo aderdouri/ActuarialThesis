{
  "cells": [
    {
      "cell_type": "markdown",
      "metadata": {
        "id": "view-in-github",
        "colab_type": "text"
      },
      "source": [
        "<a href=\"https://colab.research.google.com/github/aderdouri/ActuarialThesis/blob/master/myLightGBMClassifier.ipynb\" target=\"_parent\"><img src=\"https://colab.research.google.com/assets/colab-badge.svg\" alt=\"Open In Colab\"/></a>"
      ]
    },
    {
      "cell_type": "markdown",
      "source": [
        "# Classification LightGBM"
      ],
      "metadata": {
        "id": "6b3sUNjPBJiC"
      }
    },
    {
      "cell_type": "markdown",
      "source": [
        "## Cloner la branche contenant le dataset le code qui va avec."
      ],
      "metadata": {
        "id": "xBsChsNI8vtC"
      }
    },
    {
      "cell_type": "code",
      "source": [
        "!rm -rf ActuarialThesis\n",
        "!git clone https://github.com/aderdouri/ActuarialThesis.git\n",
        "%ls -ltr ActuarialThesis"
      ],
      "metadata": {
        "id": "ku-oQhzZ_XVf"
      },
      "execution_count": null,
      "outputs": []
    },
    {
      "cell_type": "code",
      "source": [
        "!mkdir ActuarialThesis/plots_clf\n",
        "!ls -ltr ActuarialThesis/plots_clf"
      ],
      "metadata": {
        "id": "qMrBiONVITfx"
      },
      "execution_count": null,
      "outputs": []
    },
    {
      "cell_type": "code",
      "source": [
        "# Ajouter le répértoire src\n",
        "import sys\n",
        "sys.path.insert(0,'./ActuarialThesis/src/')"
      ],
      "metadata": {
        "id": "Yt_rL1M8Af8Y"
      },
      "execution_count": null,
      "outputs": []
    },
    {
      "cell_type": "code",
      "source": [
        "import installHelper"
      ],
      "metadata": {
        "id": "6rTRbvQaCVtp"
      },
      "execution_count": null,
      "outputs": []
    },
    {
      "cell_type": "code",
      "source": [
        "print(list(dir(installHelper)))"
      ],
      "metadata": {
        "id": "rHGckP6GC5m6"
      },
      "execution_count": null,
      "outputs": []
    },
    {
      "cell_type": "code",
      "source": [
        "!ls -ltr"
      ],
      "metadata": {
        "id": "aBZF_kuSFqGe"
      },
      "execution_count": null,
      "outputs": []
    },
    {
      "cell_type": "markdown",
      "source": [
        "# Installer les packages nécéssaires"
      ],
      "metadata": {
        "id": "Cwk41ipBA8Zd"
      }
    },
    {
      "cell_type": "code",
      "source": [
        "%time installHelper.installALL()"
      ],
      "metadata": {
        "id": "fhS1VmvE3FdR"
      },
      "execution_count": null,
      "outputs": []
    },
    {
      "cell_type": "code",
      "source": [
        "# On doit trouver tous les packages mentionés dans le grep\n",
        "!pip list -v | grep -e catboost -e 'imbalanced-learn' -e 'optuna' -e 'catboost' -e 'lime' -e 'shap' -e 'seaborn' -e 'scikit-plot'"
      ],
      "metadata": {
        "id": "cGyCGR8s3jIP"
      },
      "execution_count": null,
      "outputs": []
    },
    {
      "cell_type": "markdown",
      "source": [
        "# Importer les packages nécéssaires"
      ],
      "metadata": {
        "id": "nUiGY-yRmGCf"
      }
    },
    {
      "cell_type": "code",
      "source": [
        "from helper import *"
      ],
      "metadata": {
        "id": "x-gYDo_etsAw"
      },
      "execution_count": null,
      "outputs": []
    },
    {
      "cell_type": "code",
      "source": [
        "#Appliquer le theme par défaut\n",
        "sns.set_theme()"
      ],
      "metadata": {
        "id": "D4pjDsaMlTmb"
      },
      "execution_count": null,
      "outputs": []
    },
    {
      "cell_type": "markdown",
      "source": [
        "# Partir du dataset déja encodé."
      ],
      "metadata": {
        "id": "HsHXldvtBYCa"
      }
    },
    {
      "cell_type": "code",
      "source": [
        "# Partir du dataset déja encodé.\n",
        "df = pd.read_csv('ActuarialThesis/Data/encodedBASEAUTO.csv')\n",
        "df.head()"
      ],
      "metadata": {
        "id": "Xzs-bKNKBYPK"
      },
      "execution_count": null,
      "outputs": []
    },
    {
      "cell_type": "code",
      "source": [
        "# Separation de la variable target du dataset\n",
        "Y = df['CHARGE']\n",
        "X = df.drop('CHARGE', axis=1)"
      ],
      "metadata": {
        "id": "brqH4rFy5aHu"
      },
      "execution_count": null,
      "outputs": []
    },
    {
      "cell_type": "markdown",
      "source": [
        "# Target variable mapping"
      ],
      "metadata": {
        "id": "LtC-y2sSz9Sp"
      }
    },
    {
      "cell_type": "code",
      "source": [
        "# Ici nous allons considérer le problème comme un problème de classification\n",
        "# Class 0 si la CHARGE==0 sinon Class 1.\n",
        "y = Y.map(lambda val: 0 if val<=0 else 1)"
      ],
      "metadata": {
        "id": "5QVe9mf8Dsgn"
      },
      "execution_count": null,
      "outputs": []
    },
    {
      "cell_type": "code",
      "source": [
        "y.unique()"
      ],
      "metadata": {
        "id": "Emkd6Y370Mml"
      },
      "execution_count": null,
      "outputs": []
    },
    {
      "cell_type": "markdown",
      "source": [
        "# Modeling"
      ],
      "metadata": {
        "id": "ci0ErDhPzH7q"
      }
    },
    {
      "cell_type": "markdown",
      "source": [
        "## 3.1 Handling the imbalances"
      ],
      "metadata": {
        "id": "kiW37UapzZFW"
      }
    },
    {
      "cell_type": "code",
      "source": [
        "from sklearn.utils.class_weight import compute_class_weight\n",
        "\n",
        "X_train, X_test, y_train, y_test = train_test_split(X, y, test_size=0.4)\n",
        "X_val, X_test, y_val, y_test = train_test_split(X_test, y_test, test_size=0.5)\n",
        "\n",
        "classes = np.unique(y_train)\n",
        "weights = compute_class_weight(class_weight='balanced', classes=classes, y=y_train)\n",
        "class_weights = dict(zip(classes, weights))\n",
        "\n",
        "import optuna.integration.lightgbm as lgb\n",
        "from lightgbm import early_stopping\n",
        "from lightgbm import log_evaluation\n",
        "import sklearn.datasets\n",
        "from sklearn.model_selection import KFold\n",
        "\n",
        "dtrain = lgb.Dataset(X_train, label=y_train)\n",
        "\n",
        "params = {\n",
        "    \"objective\": \"binary\",\n",
        "    #\"metric\": \"binary_logloss\",\n",
        "    \"metric\": \"auc\",\n",
        "    \"verbosity\": -1,\n",
        "    \"boosting_type\": \"gbdt\",\n",
        "    \"class_weight\": \"balanced\",\n",
        "}\n",
        "\n",
        "my_study = optuna.create_study(direction='maximize')\n",
        "\n",
        "tuner = lgb.LightGBMTunerCV(\n",
        "    params,\n",
        "    dtrain,\n",
        "    folds=KFold(n_splits=5),\n",
        "    callbacks=[early_stopping(1000),\n",
        "               log_evaluation(1000)],\n",
        "    study=my_study,\n",
        ")\n",
        "\n",
        "tuner.run()"
      ],
      "metadata": {
        "id": "ejsj0upW_CCA"
      },
      "execution_count": null,
      "outputs": []
    },
    {
      "cell_type": "code",
      "source": [
        "print(\"Best score:\", tuner.best_score)\n",
        "best_params = tuner.best_params\n",
        "print(\"Best params:\", best_params)\n",
        "print(\"  Params: \")\n",
        "for key, value in best_params.items():\n",
        "    print(\"    {}: {}\".format(key, value))"
      ],
      "metadata": {
        "id": "bS8eHzYavX3J"
      },
      "execution_count": null,
      "outputs": []
    },
    {
      "cell_type": "code",
      "source": [
        "optimized_lgbm_clf = lgbm.LGBMClassifier(**best_params)\n",
        "optimized_lgbm_clf.fit(X_train, y_train)"
      ],
      "metadata": {
        "id": "sOaW0cMcNHsE"
      },
      "execution_count": null,
      "outputs": []
    },
    {
      "cell_type": "code",
      "source": [
        "y_pred = optimized_lgbm_clf.predict(X_val)\n",
        "print(classification_report(y_val, y_pred))\n",
        "print('Accuracy (balanced): {:.5f}'.format(balanced_accuracy_score(y_val, y_pred)))"
      ],
      "metadata": {
        "id": "rlWyWkBSRDhb"
      },
      "execution_count": null,
      "outputs": []
    },
    {
      "cell_type": "code",
      "source": [
        "tuner.study"
      ],
      "metadata": {
        "id": "jwCVpc5782sh"
      },
      "execution_count": null,
      "outputs": []
    },
    {
      "cell_type": "code",
      "source": [
        "#fig = optuna.visualization.plot_param_importances(my_study)\n",
        "#fig.write_image(\"./ActuarialThesis/plots_clf/myLightGBMClassifierParamImportances.pdf\")\n",
        "#fig.show()"
      ],
      "metadata": {
        "id": "TZrp66W3JUod"
      },
      "execution_count": null,
      "outputs": []
    },
    {
      "cell_type": "code",
      "source": [
        "from lightgbm import plot_importance\n",
        "ax = plot_importance(optimized_lgbm_clf, max_num_features=10)\n",
        "ax.figure.set_size_inches(20, 6)\n",
        "ax.figure.savefig('./ActuarialThesis/plots_clf/myLightGBMClassifierFeatureImportances.pdf')"
      ],
      "metadata": {
        "id": "jEAFNAVDJbgZ"
      },
      "execution_count": null,
      "outputs": []
    },
    {
      "cell_type": "code",
      "source": [
        "fig, (ax1, ax2) = plt.subplots(1, 2, sharey=True, figsize=(18, 6))\n",
        "y_probas = optimized_lgbm_clf.predict_proba(X_train)\n",
        "skplt.metrics.plot_precision_recall(y_train, y_probas, ax = ax1, title = 'Precision-Recall Curve on Train set')\n",
        "\n",
        "y_probas = optimized_lgbm_clf.predict_proba(X_test)\n",
        "skplt.metrics.plot_precision_recall(y_test, y_probas, ax = ax2, title = 'Precision-Recall Curve on Test set')\n",
        "\n",
        "fig.set_size_inches(20, 6)\n",
        "fig.savefig('./ActuarialThesis/plots_clf/myLightGBMClassifierPrecisionRecallCurve.pdf', bbox_inches='tight')\n",
        "plt.show();"
      ],
      "metadata": {
        "id": "01qM-TIcVlWL"
      },
      "execution_count": null,
      "outputs": []
    },
    {
      "cell_type": "code",
      "source": [
        "fig = plot_classification_report_confusion_matrix(optimized_lgbm_clf, X_test, y_test)\n",
        "fig.set_size_inches(20, 6)\n",
        "fig.savefig('./ActuarialThesis/plots_clf/myLightGBMClassifierConfusionMatrix.pdf', bbox_inches='tight')"
      ],
      "metadata": {
        "id": "rKVlJXi6t_8t"
      },
      "execution_count": null,
      "outputs": []
    },
    {
      "cell_type": "code",
      "source": [
        "fig, (ax1, ax2) = plt.subplots(1, 2, figsize=(18, 6))\n",
        "y_probas = optimized_lgbm_clf.predict_proba(X_test)\n",
        "skplt.metrics.plot_cumulative_gain(y_test, y_probas, ax = ax1)\n",
        "skplt.metrics.plot_lift_curve(y_test, y_probas, ax = ax2)\n",
        "fig.set_size_inches(20, 6)\n",
        "fig.savefig('./ActuarialThesis/plots_clf/myLightGBMClassifier_cumulative_gain_lift_curve.pdf', bbox_inches='tight')\n",
        "plt.show();"
      ],
      "metadata": {
        "id": "55-KrlvB4U3q"
      },
      "execution_count": null,
      "outputs": []
    }
  ],
  "metadata": {
    "colab": {
      "provenance": [],
      "private_outputs": true,
      "machine_shape": "hm",
      "gpuType": "T4",
      "gpuClass": "premium",
      "toc_visible": true,
      "include_colab_link": true
    },
    "kernelspec": {
      "display_name": "Python 3",
      "name": "python3"
    }
  },
  "nbformat": 4,
  "nbformat_minor": 0
}